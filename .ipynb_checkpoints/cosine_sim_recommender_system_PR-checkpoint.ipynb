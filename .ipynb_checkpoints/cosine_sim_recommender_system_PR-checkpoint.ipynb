{
 "cells": [
  {
   "cell_type": "code",
   "execution_count": 1,
   "metadata": {
    "ExecuteTime": {
     "end_time": "2019-12-11T03:46:09.079357Z",
     "start_time": "2019-12-11T03:46:08.709174Z"
    }
   },
   "outputs": [],
   "source": [
    "import warnings\n",
    "warnings.filterwarnings(\"ignore\")\n",
    "import numpy as np\n",
    "import pandas as pd\n",
    "import matplotlib.pyplot as plt\n",
    "from tqdm import tqdm\n",
    "import heapq"
   ]
  },
  {
   "cell_type": "code",
   "execution_count": 2,
   "metadata": {
    "ExecuteTime": {
     "end_time": "2019-12-11T03:46:09.234890Z",
     "start_time": "2019-12-11T03:46:09.203528Z"
    }
   },
   "outputs": [],
   "source": [
    "df=pd.read_csv('ratings.csv')"
   ]
  },
  {
   "cell_type": "code",
   "execution_count": 3,
   "metadata": {
    "ExecuteTime": {
     "end_time": "2019-12-11T03:46:09.489025Z",
     "start_time": "2019-12-11T03:46:09.275414Z"
    }
   },
   "outputs": [],
   "source": [
    "user_movie_rating = df.pivot_table(index='userId', columns='movieId', values='rating')"
   ]
  },
  {
   "cell_type": "code",
   "execution_count": 4,
   "metadata": {
    "ExecuteTime": {
     "end_time": "2019-12-11T03:46:10.168434Z",
     "start_time": "2019-12-11T03:46:10.163714Z"
    }
   },
   "outputs": [],
   "source": [
    "# dist=[]\n",
    "# klen=[]"
   ]
  },
  {
   "cell_type": "code",
   "execution_count": 5,
   "metadata": {
    "ExecuteTime": {
     "end_time": "2019-12-11T03:46:11.253953Z",
     "start_time": "2019-12-11T03:46:10.171536Z"
    }
   },
   "outputs": [],
   "source": [
    "# for j in tqdm(range(1,len(user_movie_rating.index)+1)):\n",
    "#     dist_temp=[]\n",
    "#     klen_temp=[]\n",
    "#     for i in range(1,len(user_movie_rating.index)+1):\n",
    "#         user1_rating=user_movie_rating.iloc[j-1][user_movie_rating.iloc[j-1].isna()==False]\n",
    "#         user1_movieId=list(user_movie_rating.iloc[j-1][user_movie_rating.iloc[j-1].isna()==False].index)\n",
    "#         user_i_rating=user_movie_rating.iloc[i-1][user_movie_rating.iloc[i-1].isna()==False]\n",
    "#         user_i_1_rating=user_i_rating[user_i_rating.index.isin(user1_movieId)]\n",
    "#         user_i_1_movieId=list(user_i_1_rating.index)\n",
    "#         user1_i_rating=user1_rating[user1_rating.index.isin(user_i_1_movieId)]\n",
    "#         a=sum(user1_i_rating*user_i_1_rating)\n",
    "#         b=np.sqrt(sum(np.square(user_i_rating)))\n",
    "#         c=np.sqrt(sum(np.square(user1_rating)))\n",
    "#         k=a/(b*c)\n",
    "#         klen_temp.append(k)\n",
    "#         dist_temp.append(np.cos(k))\n",
    "#     klen.append(klen_temp)\n",
    "#     dist.append(dist_temp)"
   ]
  },
  {
   "cell_type": "code",
   "execution_count": 6,
   "metadata": {
    "ExecuteTime": {
     "end_time": "2019-12-11T03:46:11.841473Z",
     "start_time": "2019-12-11T03:46:11.830690Z"
    }
   },
   "outputs": [],
   "source": [
    "# df1=pd.DataFrame(klen)"
   ]
  },
  {
   "cell_type": "code",
   "execution_count": 7,
   "metadata": {
    "ExecuteTime": {
     "end_time": "2019-12-11T03:46:12.073813Z",
     "start_time": "2019-12-11T03:46:12.071610Z"
    }
   },
   "outputs": [],
   "source": [
    "# df1"
   ]
  },
  {
   "cell_type": "code",
   "execution_count": 8,
   "metadata": {
    "ExecuteTime": {
     "end_time": "2019-12-11T03:46:12.317502Z",
     "start_time": "2019-12-11T03:46:12.313296Z"
    }
   },
   "outputs": [],
   "source": [
    "# df2=pd.DataFrame(dist)"
   ]
  },
  {
   "cell_type": "code",
   "execution_count": 9,
   "metadata": {
    "ExecuteTime": {
     "end_time": "2019-12-11T03:46:12.549262Z",
     "start_time": "2019-12-11T03:46:12.547386Z"
    }
   },
   "outputs": [],
   "source": [
    "# df2"
   ]
  },
  {
   "cell_type": "code",
   "execution_count": 10,
   "metadata": {
    "ExecuteTime": {
     "end_time": "2019-12-11T03:46:12.827905Z",
     "start_time": "2019-12-11T03:46:12.825209Z"
    }
   },
   "outputs": [],
   "source": [
    "# df1.to_csv('cos_similarity.csv', index=False, header=False)"
   ]
  },
  {
   "cell_type": "code",
   "execution_count": 11,
   "metadata": {
    "ExecuteTime": {
     "end_time": "2019-12-11T03:46:13.073709Z",
     "start_time": "2019-12-11T03:46:13.070512Z"
    }
   },
   "outputs": [],
   "source": [
    "# df2.to_csv('angle_similarity.csv', index=False, header=False)"
   ]
  },
  {
   "cell_type": "code",
   "execution_count": 12,
   "metadata": {
    "ExecuteTime": {
     "end_time": "2019-12-11T03:46:13.473283Z",
     "start_time": "2019-12-11T03:46:13.318898Z"
    }
   },
   "outputs": [],
   "source": [
    "similarity_df=pd.read_csv('cos_similarity.csv',header=None)"
   ]
  },
  {
   "cell_type": "code",
   "execution_count": 13,
   "metadata": {
    "ExecuteTime": {
     "end_time": "2019-12-11T03:46:13.774640Z",
     "start_time": "2019-12-11T03:46:13.769849Z"
    }
   },
   "outputs": [],
   "source": [
    "similarity_df.fillna(0.0,inplace=True)"
   ]
  },
  {
   "cell_type": "code",
   "execution_count": 14,
   "metadata": {
    "ExecuteTime": {
     "end_time": "2019-12-11T03:46:14.088189Z",
     "start_time": "2019-12-11T03:46:14.058953Z"
    }
   },
   "outputs": [
    {
     "data": {
      "text/html": [
       "<div>\n",
       "<style scoped>\n",
       "    .dataframe tbody tr th:only-of-type {\n",
       "        vertical-align: middle;\n",
       "    }\n",
       "\n",
       "    .dataframe tbody tr th {\n",
       "        vertical-align: top;\n",
       "    }\n",
       "\n",
       "    .dataframe thead th {\n",
       "        text-align: right;\n",
       "    }\n",
       "</style>\n",
       "<table border=\"1\" class=\"dataframe\">\n",
       "  <thead>\n",
       "    <tr style=\"text-align: right;\">\n",
       "      <th></th>\n",
       "      <th>0</th>\n",
       "      <th>1</th>\n",
       "      <th>2</th>\n",
       "      <th>3</th>\n",
       "      <th>4</th>\n",
       "      <th>5</th>\n",
       "      <th>6</th>\n",
       "      <th>7</th>\n",
       "      <th>8</th>\n",
       "      <th>9</th>\n",
       "      <th>...</th>\n",
       "      <th>600</th>\n",
       "      <th>601</th>\n",
       "      <th>602</th>\n",
       "      <th>603</th>\n",
       "      <th>604</th>\n",
       "      <th>605</th>\n",
       "      <th>606</th>\n",
       "      <th>607</th>\n",
       "      <th>608</th>\n",
       "      <th>609</th>\n",
       "    </tr>\n",
       "  </thead>\n",
       "  <tbody>\n",
       "    <tr>\n",
       "      <td>0</td>\n",
       "      <td>1.000000</td>\n",
       "      <td>0.027283</td>\n",
       "      <td>0.059720</td>\n",
       "      <td>0.194395</td>\n",
       "      <td>0.129080</td>\n",
       "      <td>0.128152</td>\n",
       "      <td>0.158744</td>\n",
       "      <td>0.136968</td>\n",
       "      <td>0.064263</td>\n",
       "      <td>0.016875</td>\n",
       "      <td>...</td>\n",
       "      <td>0.080554</td>\n",
       "      <td>0.164455</td>\n",
       "      <td>0.221486</td>\n",
       "      <td>0.070669</td>\n",
       "      <td>0.153625</td>\n",
       "      <td>0.164191</td>\n",
       "      <td>0.269389</td>\n",
       "      <td>0.291097</td>\n",
       "      <td>0.093572</td>\n",
       "      <td>0.145321</td>\n",
       "    </tr>\n",
       "    <tr>\n",
       "      <td>1</td>\n",
       "      <td>0.027283</td>\n",
       "      <td>1.000000</td>\n",
       "      <td>0.000000</td>\n",
       "      <td>0.003726</td>\n",
       "      <td>0.016614</td>\n",
       "      <td>0.025333</td>\n",
       "      <td>0.027585</td>\n",
       "      <td>0.027257</td>\n",
       "      <td>0.000000</td>\n",
       "      <td>0.067445</td>\n",
       "      <td>...</td>\n",
       "      <td>0.202671</td>\n",
       "      <td>0.016866</td>\n",
       "      <td>0.011997</td>\n",
       "      <td>0.000000</td>\n",
       "      <td>0.000000</td>\n",
       "      <td>0.028429</td>\n",
       "      <td>0.012948</td>\n",
       "      <td>0.046211</td>\n",
       "      <td>0.027565</td>\n",
       "      <td>0.102427</td>\n",
       "    </tr>\n",
       "    <tr>\n",
       "      <td>2</td>\n",
       "      <td>0.059720</td>\n",
       "      <td>0.000000</td>\n",
       "      <td>1.000000</td>\n",
       "      <td>0.002251</td>\n",
       "      <td>0.005020</td>\n",
       "      <td>0.003936</td>\n",
       "      <td>0.000000</td>\n",
       "      <td>0.004941</td>\n",
       "      <td>0.000000</td>\n",
       "      <td>0.000000</td>\n",
       "      <td>...</td>\n",
       "      <td>0.005048</td>\n",
       "      <td>0.004892</td>\n",
       "      <td>0.024992</td>\n",
       "      <td>0.000000</td>\n",
       "      <td>0.010694</td>\n",
       "      <td>0.012993</td>\n",
       "      <td>0.019247</td>\n",
       "      <td>0.021128</td>\n",
       "      <td>0.000000</td>\n",
       "      <td>0.032119</td>\n",
       "    </tr>\n",
       "    <tr>\n",
       "      <td>3</td>\n",
       "      <td>0.194395</td>\n",
       "      <td>0.003726</td>\n",
       "      <td>0.002251</td>\n",
       "      <td>1.000000</td>\n",
       "      <td>0.128659</td>\n",
       "      <td>0.088491</td>\n",
       "      <td>0.115120</td>\n",
       "      <td>0.062969</td>\n",
       "      <td>0.011361</td>\n",
       "      <td>0.031163</td>\n",
       "      <td>...</td>\n",
       "      <td>0.085938</td>\n",
       "      <td>0.128273</td>\n",
       "      <td>0.307973</td>\n",
       "      <td>0.052985</td>\n",
       "      <td>0.084584</td>\n",
       "      <td>0.200395</td>\n",
       "      <td>0.131746</td>\n",
       "      <td>0.149858</td>\n",
       "      <td>0.032198</td>\n",
       "      <td>0.107683</td>\n",
       "    </tr>\n",
       "    <tr>\n",
       "      <td>4</td>\n",
       "      <td>0.129080</td>\n",
       "      <td>0.016614</td>\n",
       "      <td>0.005020</td>\n",
       "      <td>0.128659</td>\n",
       "      <td>1.000000</td>\n",
       "      <td>0.300349</td>\n",
       "      <td>0.108342</td>\n",
       "      <td>0.429075</td>\n",
       "      <td>0.000000</td>\n",
       "      <td>0.030611</td>\n",
       "      <td>...</td>\n",
       "      <td>0.068048</td>\n",
       "      <td>0.418747</td>\n",
       "      <td>0.110148</td>\n",
       "      <td>0.258773</td>\n",
       "      <td>0.148758</td>\n",
       "      <td>0.106435</td>\n",
       "      <td>0.152866</td>\n",
       "      <td>0.135535</td>\n",
       "      <td>0.261232</td>\n",
       "      <td>0.060792</td>\n",
       "    </tr>\n",
       "    <tr>\n",
       "      <td>...</td>\n",
       "      <td>...</td>\n",
       "      <td>...</td>\n",
       "      <td>...</td>\n",
       "      <td>...</td>\n",
       "      <td>...</td>\n",
       "      <td>...</td>\n",
       "      <td>...</td>\n",
       "      <td>...</td>\n",
       "      <td>...</td>\n",
       "      <td>...</td>\n",
       "      <td>...</td>\n",
       "      <td>...</td>\n",
       "      <td>...</td>\n",
       "      <td>...</td>\n",
       "      <td>...</td>\n",
       "      <td>...</td>\n",
       "      <td>...</td>\n",
       "      <td>...</td>\n",
       "      <td>...</td>\n",
       "      <td>...</td>\n",
       "      <td>...</td>\n",
       "    </tr>\n",
       "    <tr>\n",
       "      <td>605</td>\n",
       "      <td>0.164191</td>\n",
       "      <td>0.028429</td>\n",
       "      <td>0.012993</td>\n",
       "      <td>0.200395</td>\n",
       "      <td>0.106435</td>\n",
       "      <td>0.102123</td>\n",
       "      <td>0.200035</td>\n",
       "      <td>0.099388</td>\n",
       "      <td>0.075898</td>\n",
       "      <td>0.088963</td>\n",
       "      <td>...</td>\n",
       "      <td>0.178084</td>\n",
       "      <td>0.116534</td>\n",
       "      <td>0.300669</td>\n",
       "      <td>0.066032</td>\n",
       "      <td>0.148141</td>\n",
       "      <td>1.000000</td>\n",
       "      <td>0.153063</td>\n",
       "      <td>0.262558</td>\n",
       "      <td>0.069622</td>\n",
       "      <td>0.201104</td>\n",
       "    </tr>\n",
       "    <tr>\n",
       "      <td>606</td>\n",
       "      <td>0.269389</td>\n",
       "      <td>0.012948</td>\n",
       "      <td>0.019247</td>\n",
       "      <td>0.131746</td>\n",
       "      <td>0.152866</td>\n",
       "      <td>0.162182</td>\n",
       "      <td>0.186114</td>\n",
       "      <td>0.185142</td>\n",
       "      <td>0.011844</td>\n",
       "      <td>0.010451</td>\n",
       "      <td>...</td>\n",
       "      <td>0.092525</td>\n",
       "      <td>0.199910</td>\n",
       "      <td>0.203540</td>\n",
       "      <td>0.137834</td>\n",
       "      <td>0.118780</td>\n",
       "      <td>0.153063</td>\n",
       "      <td>1.000000</td>\n",
       "      <td>0.283081</td>\n",
       "      <td>0.149190</td>\n",
       "      <td>0.139114</td>\n",
       "    </tr>\n",
       "    <tr>\n",
       "      <td>607</td>\n",
       "      <td>0.291097</td>\n",
       "      <td>0.046211</td>\n",
       "      <td>0.021128</td>\n",
       "      <td>0.149858</td>\n",
       "      <td>0.135535</td>\n",
       "      <td>0.178809</td>\n",
       "      <td>0.323541</td>\n",
       "      <td>0.187233</td>\n",
       "      <td>0.100435</td>\n",
       "      <td>0.077424</td>\n",
       "      <td>...</td>\n",
       "      <td>0.158355</td>\n",
       "      <td>0.197514</td>\n",
       "      <td>0.232771</td>\n",
       "      <td>0.155306</td>\n",
       "      <td>0.178142</td>\n",
       "      <td>0.262558</td>\n",
       "      <td>0.283081</td>\n",
       "      <td>1.000000</td>\n",
       "      <td>0.121993</td>\n",
       "      <td>0.322055</td>\n",
       "    </tr>\n",
       "    <tr>\n",
       "      <td>608</td>\n",
       "      <td>0.093572</td>\n",
       "      <td>0.027565</td>\n",
       "      <td>0.000000</td>\n",
       "      <td>0.032198</td>\n",
       "      <td>0.261232</td>\n",
       "      <td>0.214234</td>\n",
       "      <td>0.090840</td>\n",
       "      <td>0.423993</td>\n",
       "      <td>0.000000</td>\n",
       "      <td>0.021766</td>\n",
       "      <td>...</td>\n",
       "      <td>0.035653</td>\n",
       "      <td>0.335231</td>\n",
       "      <td>0.061941</td>\n",
       "      <td>0.236601</td>\n",
       "      <td>0.097610</td>\n",
       "      <td>0.069622</td>\n",
       "      <td>0.149190</td>\n",
       "      <td>0.121993</td>\n",
       "      <td>1.000000</td>\n",
       "      <td>0.053225</td>\n",
       "    </tr>\n",
       "    <tr>\n",
       "      <td>609</td>\n",
       "      <td>0.145321</td>\n",
       "      <td>0.102427</td>\n",
       "      <td>0.032119</td>\n",
       "      <td>0.107683</td>\n",
       "      <td>0.060792</td>\n",
       "      <td>0.052668</td>\n",
       "      <td>0.193219</td>\n",
       "      <td>0.078153</td>\n",
       "      <td>0.074399</td>\n",
       "      <td>0.121072</td>\n",
       "      <td>...</td>\n",
       "      <td>0.222491</td>\n",
       "      <td>0.087528</td>\n",
       "      <td>0.163094</td>\n",
       "      <td>0.052552</td>\n",
       "      <td>0.119295</td>\n",
       "      <td>0.201104</td>\n",
       "      <td>0.139114</td>\n",
       "      <td>0.322055</td>\n",
       "      <td>0.053225</td>\n",
       "      <td>1.000000</td>\n",
       "    </tr>\n",
       "  </tbody>\n",
       "</table>\n",
       "<p>610 rows × 610 columns</p>\n",
       "</div>"
      ],
      "text/plain": [
       "          0         1         2         3         4         5         6    \\\n",
       "0    1.000000  0.027283  0.059720  0.194395  0.129080  0.128152  0.158744   \n",
       "1    0.027283  1.000000  0.000000  0.003726  0.016614  0.025333  0.027585   \n",
       "2    0.059720  0.000000  1.000000  0.002251  0.005020  0.003936  0.000000   \n",
       "3    0.194395  0.003726  0.002251  1.000000  0.128659  0.088491  0.115120   \n",
       "4    0.129080  0.016614  0.005020  0.128659  1.000000  0.300349  0.108342   \n",
       "..        ...       ...       ...       ...       ...       ...       ...   \n",
       "605  0.164191  0.028429  0.012993  0.200395  0.106435  0.102123  0.200035   \n",
       "606  0.269389  0.012948  0.019247  0.131746  0.152866  0.162182  0.186114   \n",
       "607  0.291097  0.046211  0.021128  0.149858  0.135535  0.178809  0.323541   \n",
       "608  0.093572  0.027565  0.000000  0.032198  0.261232  0.214234  0.090840   \n",
       "609  0.145321  0.102427  0.032119  0.107683  0.060792  0.052668  0.193219   \n",
       "\n",
       "          7         8         9    ...       600       601       602  \\\n",
       "0    0.136968  0.064263  0.016875  ...  0.080554  0.164455  0.221486   \n",
       "1    0.027257  0.000000  0.067445  ...  0.202671  0.016866  0.011997   \n",
       "2    0.004941  0.000000  0.000000  ...  0.005048  0.004892  0.024992   \n",
       "3    0.062969  0.011361  0.031163  ...  0.085938  0.128273  0.307973   \n",
       "4    0.429075  0.000000  0.030611  ...  0.068048  0.418747  0.110148   \n",
       "..        ...       ...       ...  ...       ...       ...       ...   \n",
       "605  0.099388  0.075898  0.088963  ...  0.178084  0.116534  0.300669   \n",
       "606  0.185142  0.011844  0.010451  ...  0.092525  0.199910  0.203540   \n",
       "607  0.187233  0.100435  0.077424  ...  0.158355  0.197514  0.232771   \n",
       "608  0.423993  0.000000  0.021766  ...  0.035653  0.335231  0.061941   \n",
       "609  0.078153  0.074399  0.121072  ...  0.222491  0.087528  0.163094   \n",
       "\n",
       "          603       604       605       606       607       608       609  \n",
       "0    0.070669  0.153625  0.164191  0.269389  0.291097  0.093572  0.145321  \n",
       "1    0.000000  0.000000  0.028429  0.012948  0.046211  0.027565  0.102427  \n",
       "2    0.000000  0.010694  0.012993  0.019247  0.021128  0.000000  0.032119  \n",
       "3    0.052985  0.084584  0.200395  0.131746  0.149858  0.032198  0.107683  \n",
       "4    0.258773  0.148758  0.106435  0.152866  0.135535  0.261232  0.060792  \n",
       "..        ...       ...       ...       ...       ...       ...       ...  \n",
       "605  0.066032  0.148141  1.000000  0.153063  0.262558  0.069622  0.201104  \n",
       "606  0.137834  0.118780  0.153063  1.000000  0.283081  0.149190  0.139114  \n",
       "607  0.155306  0.178142  0.262558  0.283081  1.000000  0.121993  0.322055  \n",
       "608  0.236601  0.097610  0.069622  0.149190  0.121993  1.000000  0.053225  \n",
       "609  0.052552  0.119295  0.201104  0.139114  0.322055  0.053225  1.000000  \n",
       "\n",
       "[610 rows x 610 columns]"
      ]
     },
     "execution_count": 14,
     "metadata": {},
     "output_type": "execute_result"
    }
   ],
   "source": [
    "similarity_df"
   ]
  },
  {
   "cell_type": "code",
   "execution_count": 15,
   "metadata": {
    "ExecuteTime": {
     "end_time": "2019-12-11T03:46:24.153785Z",
     "start_time": "2019-12-11T03:46:16.613882Z"
    }
   },
   "outputs": [
    {
     "name": "stderr",
     "output_type": "stream",
     "text": [
      "100%|██████████| 610/610 [00:07<00:00, 81.03it/s]\n"
     ]
    }
   ],
   "source": [
    "user_similarity_dict={}\n",
    "for i in tqdm(range(similarity_df.shape[0])):\n",
    "    sorted_similarity=heapq.nlargest(10,similarity_df.iloc[i])[1:]\n",
    "    dict1={}\n",
    "    for j in sorted_similarity:\n",
    "        dict1[similarity_df.iloc[i][similarity_df.iloc[i]==j].index.values[0]+1]=j\n",
    "    user_similarity_dict[i+1]=dict1"
   ]
  },
  {
   "cell_type": "code",
   "execution_count": 40,
   "metadata": {
    "ExecuteTime": {
     "end_time": "2019-12-11T03:50:57.911337Z",
     "start_time": "2019-12-11T03:50:50.645575Z"
    }
   },
   "outputs": [
    {
     "name": "stderr",
     "output_type": "stream",
     "text": [
      "100%|██████████| 610/610 [00:07<00:00, 84.28it/s]\n"
     ]
    }
   ],
   "source": [
    "count=0\n",
    "len1=0\n",
    "len2=0\n",
    "len3=0\n",
    "len4=0\n",
    "for i in tqdm(user_movie_rating.index):\n",
    "    non_null_movies=list(user_movie_rating.loc[i][user_movie_rating.loc[i].isna()==False].index)\n",
    "    k0=user_movie_rating.loc[list(user_similarity_dict[i].keys())[0]]\n",
    "    k0=k0[k0.index.isin(non_null_movies)]\n",
    "    k0.fillna(0,inplace=True)\n",
    "    k1=user_movie_rating.loc[list(user_similarity_dict[i].keys())[1]]\n",
    "    k1=k1[k1.index.isin(non_null_movies)]\n",
    "    k1.fillna(0,inplace=True)\n",
    "    k2=user_movie_rating.loc[list(user_similarity_dict[i].keys())[2]]\n",
    "    k2=k2[k2.index.isin(non_null_movies)]\n",
    "    k2.fillna(0,inplace=True)\n",
    "    \n",
    "    k3=user_movie_rating.loc[list(user_similarity_dict[i].keys())[3]]\n",
    "    k3=k3[k3.index.isin(non_null_movies)]\n",
    "    k3.fillna(0,inplace=True)\n",
    "    \n",
    "    k4=user_movie_rating.loc[list(user_similarity_dict[i].keys())[4]]\n",
    "    k4=k4[k4.index.isin(non_null_movies)]\n",
    "    k4.fillna(0,inplace=True)\n",
    "    \n",
    "    a=list(user_similarity_dict[i].values())[0]\n",
    "    b=list(user_similarity_dict[i].values())[1]\n",
    "    c=list(user_similarity_dict[i].values())[2]\n",
    "    d=list(user_similarity_dict[i].values())[3]\n",
    "    e=list(user_similarity_dict[i].values())[4]\n",
    "    predicted_data=((k0*a+k1*b+k2*c+k3*d+k4*e)/(a+b+c+d+e))\n",
    "    predicted_data=np.ceil(predicted_data*2)/2\n",
    "    predicted_data=predicted_data.replace(6.0,5.0)\n",
    "    predicted_data=predicted_data.replace(5.5,5.0)\n",
    "    actual_data=user_movie_rating.loc[i][user_movie_rating.loc[i].isna()==False]\n",
    "    actual_more_than_4=actual_data[actual_data.values>=4]\n",
    "    predicted_in_actual_more_than_4=predicted_data[predicted_data.index.isin(actual_more_than_4.index)]\n",
    "    predicted_more_than_4_in_actual_more_than_4=predicted_in_actual_more_than_4[np.abs(predicted_in_actual_more_than_4.values-actual_more_than_4.values)<=1]\n",
    "    predicted_more_than_4_in_actual_more_than_4=predicted_more_than_4_in_actual_more_than_4[predicted_more_than_4_in_actual_more_than_4.values>=4]\n",
    "    len1=len1+len(actual_more_than_4)\n",
    "    len2=len2+len(predicted_more_than_4_in_actual_more_than_4)\n",
    "    predicted_more_than_4=predicted_data[predicted_data.values>=4]\n",
    "    actual_in_predicted_more_than_4=actual_data[actual_data.index.isin(predicted_more_than_4.index)]\n",
    "    actual_more_than_4_in_predicted_more_than_4=actual_in_predicted_more_than_4[np.abs(actual_in_predicted_more_than_4.values-predicted_more_than_4)<=1]\n",
    "    actual_more_than_4_in_predicted_more_than_4=actual_more_than_4_in_predicted_more_than_4[actual_more_than_4_in_predicted_more_than_4.values>=4]\n",
    "    len3=len3+len(predicted_more_than_4)\n",
    "    len4=len4+len(actual_more_than_4_in_predicted_more_than_4)"
   ]
  },
  {
   "cell_type": "code",
   "execution_count": 41,
   "metadata": {
    "ExecuteTime": {
     "end_time": "2019-12-11T03:50:58.723471Z",
     "start_time": "2019-12-11T03:50:58.718576Z"
    }
   },
   "outputs": [],
   "source": [
    "p=len2/len1"
   ]
  },
  {
   "cell_type": "code",
   "execution_count": 42,
   "metadata": {
    "ExecuteTime": {
     "end_time": "2019-12-11T03:50:59.103529Z",
     "start_time": "2019-12-11T03:50:59.096276Z"
    }
   },
   "outputs": [
    {
     "data": {
      "text/plain": [
       "0.1534993824619185"
      ]
     },
     "execution_count": 42,
     "metadata": {},
     "output_type": "execute_result"
    }
   ],
   "source": [
    "p"
   ]
  },
  {
   "cell_type": "code",
   "execution_count": 43,
   "metadata": {
    "ExecuteTime": {
     "end_time": "2019-12-11T03:50:59.532978Z",
     "start_time": "2019-12-11T03:50:59.528061Z"
    }
   },
   "outputs": [],
   "source": [
    "r=len4/len3"
   ]
  },
  {
   "cell_type": "code",
   "execution_count": 44,
   "metadata": {
    "ExecuteTime": {
     "end_time": "2019-12-11T03:50:59.891253Z",
     "start_time": "2019-12-11T03:50:59.886944Z"
    }
   },
   "outputs": [
    {
     "data": {
      "text/plain": [
       "0.7219479136412044"
      ]
     },
     "execution_count": 44,
     "metadata": {},
     "output_type": "execute_result"
    }
   ],
   "source": [
    "r"
   ]
  },
  {
   "cell_type": "code",
   "execution_count": 45,
   "metadata": {
    "ExecuteTime": {
     "end_time": "2019-12-11T03:51:06.343353Z",
     "start_time": "2019-12-11T03:51:06.336764Z"
    }
   },
   "outputs": [
    {
     "data": {
      "text/plain": [
       "0.2531701437810861"
      ]
     },
     "execution_count": 45,
     "metadata": {},
     "output_type": "execute_result"
    }
   ],
   "source": [
    "2*p*r/(p+r)"
   ]
  },
  {
   "cell_type": "code",
   "execution_count": null,
   "metadata": {},
   "outputs": [],
   "source": []
  }
 ],
 "metadata": {
  "kernelspec": {
   "display_name": "Python 3",
   "language": "python",
   "name": "python3"
  },
  "language_info": {
   "codemirror_mode": {
    "name": "ipython",
    "version": 3
   },
   "file_extension": ".py",
   "mimetype": "text/x-python",
   "name": "python",
   "nbconvert_exporter": "python",
   "pygments_lexer": "ipython3",
   "version": "3.7.3"
  },
  "toc": {
   "base_numbering": 1,
   "nav_menu": {},
   "number_sections": true,
   "sideBar": true,
   "skip_h1_title": false,
   "title_cell": "Table of Contents",
   "title_sidebar": "Contents",
   "toc_cell": false,
   "toc_position": {},
   "toc_section_display": true,
   "toc_window_display": false
  },
  "varInspector": {
   "cols": {
    "lenName": 16,
    "lenType": 16,
    "lenVar": 40
   },
   "kernels_config": {
    "python": {
     "delete_cmd_postfix": "",
     "delete_cmd_prefix": "del ",
     "library": "var_list.py",
     "varRefreshCmd": "print(var_dic_list())"
    },
    "r": {
     "delete_cmd_postfix": ") ",
     "delete_cmd_prefix": "rm(",
     "library": "var_list.r",
     "varRefreshCmd": "cat(var_dic_list()) "
    }
   },
   "types_to_exclude": [
    "module",
    "function",
    "builtin_function_or_method",
    "instance",
    "_Feature"
   ],
   "window_display": false
  }
 },
 "nbformat": 4,
 "nbformat_minor": 2
}
