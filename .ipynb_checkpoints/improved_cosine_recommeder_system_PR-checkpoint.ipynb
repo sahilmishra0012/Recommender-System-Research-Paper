{
 "cells": [
  {
   "cell_type": "code",
   "execution_count": 1,
   "metadata": {
    "ExecuteTime": {
     "end_time": "2019-12-11T04:24:56.340037Z",
     "start_time": "2019-12-11T04:24:55.935992Z"
    }
   },
   "outputs": [],
   "source": [
    "import warnings\n",
    "warnings.filterwarnings(\"ignore\")\n",
    "import numpy as np\n",
    "import pandas as pd\n",
    "import matplotlib.pyplot as plt\n",
    "from tqdm import tqdm\n",
    "import heapq"
   ]
  },
  {
   "cell_type": "code",
   "execution_count": 2,
   "metadata": {
    "ExecuteTime": {
     "end_time": "2019-12-11T04:24:56.387315Z",
     "start_time": "2019-12-11T04:24:56.348003Z"
    }
   },
   "outputs": [],
   "source": [
    "df=pd.read_csv('ratings.csv')"
   ]
  },
  {
   "cell_type": "code",
   "execution_count": 3,
   "metadata": {
    "ExecuteTime": {
     "end_time": "2019-12-11T04:24:57.307330Z",
     "start_time": "2019-12-11T04:24:56.398951Z"
    }
   },
   "outputs": [],
   "source": [
    "user_movie_rating = df.pivot_table(index='userId', columns='movieId', values='rating')"
   ]
  },
  {
   "cell_type": "code",
   "execution_count": 4,
   "metadata": {
    "ExecuteTime": {
     "end_time": "2019-12-11T04:24:57.857019Z",
     "start_time": "2019-12-11T04:24:57.854832Z"
    }
   },
   "outputs": [],
   "source": [
    "# dist=[]\n",
    "# klen=[]"
   ]
  },
  {
   "cell_type": "code",
   "execution_count": 5,
   "metadata": {
    "ExecuteTime": {
     "end_time": "2019-12-11T04:24:58.481654Z",
     "start_time": "2019-12-11T04:24:58.085696Z"
    }
   },
   "outputs": [],
   "source": [
    "# for j in tqdm(range(1,len(user_movie_rating.index)+1)):\n",
    "#     dist_temp=[]\n",
    "#     klen_temp=[]\n",
    "#     for i in range(1,len(user_movie_rating.index)+1):\n",
    "#         user1_rating=user_movie_rating.iloc[j-1][user_movie_rating.iloc[j-1].isna()==False]\n",
    "#         user1_movieId=list(user_movie_rating.iloc[j-1][user_movie_rating.iloc[j-1].isna()==False].index)\n",
    "#         user_i_rating=user_movie_rating.iloc[i-1][user_movie_rating.iloc[i-1].isna()==False]\n",
    "#         user_i_1_rating=user_i_rating[user_i_rating.index.isin(user1_movieId)]\n",
    "#         user_i_1_movieId=list(user_i_1_rating.index)\n",
    "#         user1_i_rating=user1_rating[user1_rating.index.isin(user_i_1_movieId)]\n",
    "#         a=sum(user1_i_rating*user_i_1_rating)\n",
    "#         b=np.sqrt(sum(np.square(user_i_1_rating)))\n",
    "#         c=np.sqrt(sum(np.square(user1_rating)))\n",
    "#         k=a/(b*c)\n",
    "#         klen_temp.append(k)\n",
    "#         dist_temp.append(np.cos(k))\n",
    "#     klen.append(klen_temp)\n",
    "#     dist.append(dist_temp)"
   ]
  },
  {
   "cell_type": "code",
   "execution_count": 6,
   "metadata": {
    "ExecuteTime": {
     "end_time": "2019-12-11T04:24:59.847119Z",
     "start_time": "2019-12-11T04:24:58.754338Z"
    }
   },
   "outputs": [],
   "source": [
    "# df1=pd.DataFrame(klen)"
   ]
  },
  {
   "cell_type": "code",
   "execution_count": 7,
   "metadata": {
    "ExecuteTime": {
     "end_time": "2019-12-11T04:25:00.724959Z",
     "start_time": "2019-12-11T04:25:00.099689Z"
    }
   },
   "outputs": [],
   "source": [
    "# df1"
   ]
  },
  {
   "cell_type": "code",
   "execution_count": 8,
   "metadata": {
    "ExecuteTime": {
     "end_time": "2019-12-11T04:25:01.206939Z",
     "start_time": "2019-12-11T04:25:00.961548Z"
    }
   },
   "outputs": [],
   "source": [
    "# df2=pd.DataFrame(dist)"
   ]
  },
  {
   "cell_type": "code",
   "execution_count": 9,
   "metadata": {
    "ExecuteTime": {
     "end_time": "2019-12-11T04:25:01.927949Z",
     "start_time": "2019-12-11T04:25:01.473444Z"
    }
   },
   "outputs": [],
   "source": [
    "# df2"
   ]
  },
  {
   "cell_type": "code",
   "execution_count": 10,
   "metadata": {
    "ExecuteTime": {
     "end_time": "2019-12-11T04:25:02.849273Z",
     "start_time": "2019-12-11T04:25:02.194146Z"
    }
   },
   "outputs": [],
   "source": [
    "# df1.to_csv('cos_similarity_improved.csv', index=False, header=False)"
   ]
  },
  {
   "cell_type": "code",
   "execution_count": 11,
   "metadata": {
    "ExecuteTime": {
     "end_time": "2019-12-11T04:25:03.265302Z",
     "start_time": "2019-12-11T04:25:03.114508Z"
    }
   },
   "outputs": [],
   "source": [
    "# df2.to_csv('angle_similarity_improved.csv', index=False, header=False)"
   ]
  },
  {
   "cell_type": "code",
   "execution_count": 12,
   "metadata": {
    "ExecuteTime": {
     "end_time": "2019-12-11T04:25:03.627958Z",
     "start_time": "2019-12-11T04:25:03.526531Z"
    }
   },
   "outputs": [],
   "source": [
    "similarity_df=pd.read_csv('cos_similarity_improved.csv',header=None)"
   ]
  },
  {
   "cell_type": "code",
   "execution_count": 13,
   "metadata": {
    "ExecuteTime": {
     "end_time": "2019-12-11T04:25:06.977281Z",
     "start_time": "2019-12-11T04:25:06.959332Z"
    }
   },
   "outputs": [],
   "source": [
    "similarity_df.fillna(0.0,inplace=True)"
   ]
  },
  {
   "cell_type": "code",
   "execution_count": 14,
   "metadata": {
    "ExecuteTime": {
     "end_time": "2019-12-11T04:25:14.794836Z",
     "start_time": "2019-12-11T04:25:07.375861Z"
    }
   },
   "outputs": [
    {
     "name": "stderr",
     "output_type": "stream",
     "text": [
      "100%|██████████| 610/610 [00:07<00:00, 87.55it/s]\n"
     ]
    }
   ],
   "source": [
    "user_similarity_dict={}\n",
    "for i in tqdm(range(similarity_df.shape[0])):\n",
    "    sorted_similarity=heapq.nlargest(10,similarity_df.iloc[i])[1:]\n",
    "    dict1={}\n",
    "    for j in sorted_similarity:\n",
    "        dict1[similarity_df.iloc[i][similarity_df.iloc[i]==j].index.values[0]+1]=j\n",
    "    user_similarity_dict[i+1]=dict1"
   ]
  },
  {
   "cell_type": "code",
   "execution_count": 27,
   "metadata": {
    "ExecuteTime": {
     "end_time": "2019-12-11T04:29:06.691737Z",
     "start_time": "2019-12-11T04:28:59.909348Z"
    }
   },
   "outputs": [
    {
     "name": "stderr",
     "output_type": "stream",
     "text": [
      "100%|██████████| 610/610 [00:06<00:00, 90.53it/s]\n"
     ]
    }
   ],
   "source": [
    "count=0\n",
    "len1=0\n",
    "len2=0\n",
    "len3=0\n",
    "len4=0\n",
    "\n",
    "for i in tqdm(user_movie_rating.index):\n",
    "    non_null_movies=list(user_movie_rating.loc[i][user_movie_rating.loc[i].isna()==False].index)\n",
    "    k0=user_movie_rating.loc[list(user_similarity_dict[i].keys())[0]]\n",
    "    k0=k0[k0.index.isin(non_null_movies)]\n",
    "    k0.fillna(0,inplace=True)\n",
    "    k1=user_movie_rating.loc[list(user_similarity_dict[i].keys())[1]]\n",
    "    k1=k1[k1.index.isin(non_null_movies)]\n",
    "    k1.fillna(0,inplace=True)\n",
    "    k2=user_movie_rating.loc[list(user_similarity_dict[i].keys())[2]]\n",
    "    k2=k2[k2.index.isin(non_null_movies)]\n",
    "    k2.fillna(0,inplace=True)\n",
    "    k3=user_movie_rating.loc[list(user_similarity_dict[i].keys())[3]]\n",
    "    k3=k3[k3.index.isin(non_null_movies)]\n",
    "    k3.fillna(0,inplace=True)\n",
    "    k4=user_movie_rating.loc[list(user_similarity_dict[i].keys())[4]]\n",
    "    k4=k4[k4.index.isin(non_null_movies)]\n",
    "    k4.fillna(0,inplace=True)\n",
    "    a=list(user_similarity_dict[i].values())[0]\n",
    "    b=list(user_similarity_dict[i].values())[1]\n",
    "    c=list(user_similarity_dict[i].values())[2]\n",
    "    d=list(user_similarity_dict[i].values())[3]\n",
    "    e=list(user_similarity_dict[i].values())[4]\n",
    "    predicted_data=((k0*a+k1*b+k2*c+k3*d+k4*e)/(a+b+c+d+e))\n",
    "    predicted_data=np.ceil(predicted_data*2)/2\n",
    "    predicted_data=predicted_data.replace(6.0,5.0)\n",
    "    predicted_data=predicted_data.replace(5.5,5.0)\n",
    "    actual_data=user_movie_rating.loc[i][user_movie_rating.loc[i].isna()==False]\n",
    "    actual_more_than_4=actual_data[actual_data.values>=4]\n",
    "    predicted_in_actual_more_than_4=predicted_data[predicted_data.index.isin(actual_more_than_4.index)]\n",
    "    predicted_more_than_4_in_actual_more_than_4=predicted_in_actual_more_than_4[np.abs(predicted_in_actual_more_than_4.values-actual_more_than_4.values)<=1]\n",
    "    predicted_more_than_4_in_actual_more_than_4=predicted_more_than_4_in_actual_more_than_4[predicted_more_than_4_in_actual_more_than_4.values>=4]\n",
    "    len1=len1+len(actual_more_than_4)\n",
    "    len2=len2+len(predicted_more_than_4_in_actual_more_than_4)\n",
    "    predicted_more_than_4=predicted_data[predicted_data.values>=4]\n",
    "    actual_in_predicted_more_than_4=actual_data[actual_data.index.isin(predicted_more_than_4.index)]\n",
    "    actual_more_than_4_in_predicted_more_than_4=actual_in_predicted_more_than_4[np.abs(actual_in_predicted_more_than_4.values-predicted_more_than_4)<=1]\n",
    "    actual_more_than_4_in_predicted_more_than_4=actual_more_than_4_in_predicted_more_than_4[actual_more_than_4_in_predicted_more_than_4.values>=4]\n",
    "    len3=len3+len(predicted_more_than_4)\n",
    "    len4=len4+len(actual_more_than_4_in_predicted_more_than_4)"
   ]
  },
  {
   "cell_type": "code",
   "execution_count": 28,
   "metadata": {
    "ExecuteTime": {
     "end_time": "2019-12-11T04:29:06.977326Z",
     "start_time": "2019-12-11T04:29:06.973607Z"
    }
   },
   "outputs": [
    {
     "data": {
      "text/plain": [
       "0.30524907369287774"
      ]
     },
     "execution_count": 28,
     "metadata": {},
     "output_type": "execute_result"
    }
   ],
   "source": [
    "p=len2/len1\n",
    "p"
   ]
  },
  {
   "cell_type": "code",
   "execution_count": 29,
   "metadata": {
    "ExecuteTime": {
     "end_time": "2019-12-11T04:29:07.263606Z",
     "start_time": "2019-12-11T04:29:07.259438Z"
    }
   },
   "outputs": [
    {
     "data": {
      "text/plain": [
       "0.6899134642225737"
      ]
     },
     "execution_count": 29,
     "metadata": {},
     "output_type": "execute_result"
    }
   ],
   "source": [
    "r=len4/len3\n",
    "r"
   ]
  },
  {
   "cell_type": "code",
   "execution_count": 30,
   "metadata": {
    "ExecuteTime": {
     "end_time": "2019-12-11T04:29:07.540787Z",
     "start_time": "2019-12-11T04:29:07.534636Z"
    }
   },
   "outputs": [
    {
     "data": {
      "text/plain": [
       "0.42323829094956766"
      ]
     },
     "execution_count": 30,
     "metadata": {},
     "output_type": "execute_result"
    }
   ],
   "source": [
    "2*p*r/(p+r)"
   ]
  },
  {
   "cell_type": "code",
   "execution_count": null,
   "metadata": {},
   "outputs": [],
   "source": []
  }
 ],
 "metadata": {
  "kernelspec": {
   "display_name": "Python 3",
   "language": "python",
   "name": "python3"
  },
  "language_info": {
   "codemirror_mode": {
    "name": "ipython",
    "version": 3
   },
   "file_extension": ".py",
   "mimetype": "text/x-python",
   "name": "python",
   "nbconvert_exporter": "python",
   "pygments_lexer": "ipython3",
   "version": "3.7.3"
  },
  "toc": {
   "base_numbering": 1,
   "nav_menu": {},
   "number_sections": true,
   "sideBar": true,
   "skip_h1_title": false,
   "title_cell": "Table of Contents",
   "title_sidebar": "Contents",
   "toc_cell": false,
   "toc_position": {},
   "toc_section_display": true,
   "toc_window_display": false
  },
  "varInspector": {
   "cols": {
    "lenName": 16,
    "lenType": 16,
    "lenVar": 40
   },
   "kernels_config": {
    "python": {
     "delete_cmd_postfix": "",
     "delete_cmd_prefix": "del ",
     "library": "var_list.py",
     "varRefreshCmd": "print(var_dic_list())"
    },
    "r": {
     "delete_cmd_postfix": ") ",
     "delete_cmd_prefix": "rm(",
     "library": "var_list.r",
     "varRefreshCmd": "cat(var_dic_list()) "
    }
   },
   "types_to_exclude": [
    "module",
    "function",
    "builtin_function_or_method",
    "instance",
    "_Feature"
   ],
   "window_display": false
  }
 },
 "nbformat": 4,
 "nbformat_minor": 2
}
