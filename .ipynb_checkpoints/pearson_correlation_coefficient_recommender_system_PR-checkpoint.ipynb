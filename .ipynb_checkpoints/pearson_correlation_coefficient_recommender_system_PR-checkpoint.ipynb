{
 "cells": [
  {
   "cell_type": "code",
   "execution_count": 1,
   "metadata": {
    "ExecuteTime": {
     "end_time": "2019-11-01T06:12:41.332631Z",
     "start_time": "2019-11-01T06:12:40.890494Z"
    }
   },
   "outputs": [],
   "source": [
    "import warnings\n",
    "warnings.filterwarnings(\"ignore\")\n",
    "import numpy as np\n",
    "import pandas as pd\n",
    "import matplotlib.pyplot as plt\n",
    "from tqdm import tqdm\n",
    "import heapq"
   ]
  },
  {
   "cell_type": "code",
   "execution_count": 2,
   "metadata": {
    "ExecuteTime": {
     "end_time": "2019-11-01T06:12:41.490929Z",
     "start_time": "2019-11-01T06:12:41.340245Z"
    }
   },
   "outputs": [],
   "source": [
    "df=pd.read_csv('ratings.csv')"
   ]
  },
  {
   "cell_type": "code",
   "execution_count": 3,
   "metadata": {
    "ExecuteTime": {
     "end_time": "2019-11-01T06:12:41.733488Z",
     "start_time": "2019-11-01T06:12:41.506490Z"
    }
   },
   "outputs": [],
   "source": [
    "user_movie_rating = df.pivot_table(index='userId', columns='movieId', values='rating')"
   ]
  },
  {
   "cell_type": "code",
   "execution_count": 4,
   "metadata": {
    "ExecuteTime": {
     "end_time": "2019-11-01T06:12:42.524387Z",
     "start_time": "2019-11-01T06:12:42.521815Z"
    }
   },
   "outputs": [],
   "source": [
    "# klen=[]"
   ]
  },
  {
   "cell_type": "code",
   "execution_count": 5,
   "metadata": {
    "ExecuteTime": {
     "end_time": "2019-11-01T06:12:42.827748Z",
     "start_time": "2019-11-01T06:12:42.824884Z"
    }
   },
   "outputs": [],
   "source": [
    "# for j in tqdm(range(1,len(user_movie_rating.index)+1)):\n",
    "#     dist_temp=[]\n",
    "#     klen_temp=[]\n",
    "#     for i in range(1,len(user_movie_rating.index)+1):\n",
    "#         user1_rating=user_movie_rating.iloc[j-1][user_movie_rating.iloc[j-1].isna()==False]\n",
    "#         user1_movieId=list(user_movie_rating.iloc[j-1][user_movie_rating.iloc[j-1].isna()==False].index)\n",
    "#         user_i_rating=user_movie_rating.iloc[i-1][user_movie_rating.iloc[i-1].isna()==False]\n",
    "#         user_i_1_rating=user_i_rating[user_i_rating.index.isin(user1_movieId)]\n",
    "#         user_i_1_movieId=list(user_i_1_rating.index)\n",
    "#         user1_i_rating=user1_rating[user1_rating.index.isin(user_i_1_movieId)]\n",
    "#         user1_mean=np.average(user1_rating)\n",
    "#         user_i_mean=np.average(user_i_rating)\n",
    "#         a=sum((user1_i_rating-user1_mean)*(user_i_1_rating-user_i_mean))\n",
    "#         b=np.sqrt(sum(np.square(user_i_rating-user_i_mean)))\n",
    "#         c=np.sqrt(sum(np.square(user1_rating-user1_mean)))\n",
    "#         k=a/(b*c)\n",
    "#         klen_temp.append(k)\n",
    "#     klen.append(klen_temp)"
   ]
  },
  {
   "cell_type": "code",
   "execution_count": 6,
   "metadata": {
    "ExecuteTime": {
     "end_time": "2019-11-01T06:12:43.071202Z",
     "start_time": "2019-11-01T06:12:43.064320Z"
    }
   },
   "outputs": [],
   "source": [
    "# df1=pd.DataFrame(klen)"
   ]
  },
  {
   "cell_type": "code",
   "execution_count": 7,
   "metadata": {
    "ExecuteTime": {
     "end_time": "2019-11-01T06:12:43.319662Z",
     "start_time": "2019-11-01T06:12:43.316929Z"
    }
   },
   "outputs": [],
   "source": [
    "# df1"
   ]
  },
  {
   "cell_type": "code",
   "execution_count": 8,
   "metadata": {
    "ExecuteTime": {
     "end_time": "2019-11-01T06:12:43.580446Z",
     "start_time": "2019-11-01T06:12:43.578009Z"
    }
   },
   "outputs": [],
   "source": [
    "# df1.to_csv('pearson_similarity.csv', index=False, header=False)"
   ]
  },
  {
   "cell_type": "code",
   "execution_count": 9,
   "metadata": {
    "ExecuteTime": {
     "end_time": "2019-11-01T06:12:44.096811Z",
     "start_time": "2019-11-01T06:12:43.846760Z"
    }
   },
   "outputs": [],
   "source": [
    "similarity_df=pd.read_csv('pearson_similarity.csv',header=None)"
   ]
  },
  {
   "cell_type": "code",
   "execution_count": 10,
   "metadata": {
    "ExecuteTime": {
     "end_time": "2019-11-01T06:12:44.424738Z",
     "start_time": "2019-11-01T06:12:44.419116Z"
    }
   },
   "outputs": [],
   "source": [
    "similarity_df.fillna(0.0,inplace=True)"
   ]
  },
  {
   "cell_type": "code",
   "execution_count": 11,
   "metadata": {
    "ExecuteTime": {
     "end_time": "2019-11-01T06:12:44.801912Z",
     "start_time": "2019-11-01T06:12:44.769615Z"
    }
   },
   "outputs": [
    {
     "data": {
      "text/html": [
       "<div>\n",
       "<style scoped>\n",
       "    .dataframe tbody tr th:only-of-type {\n",
       "        vertical-align: middle;\n",
       "    }\n",
       "\n",
       "    .dataframe tbody tr th {\n",
       "        vertical-align: top;\n",
       "    }\n",
       "\n",
       "    .dataframe thead th {\n",
       "        text-align: right;\n",
       "    }\n",
       "</style>\n",
       "<table border=\"1\" class=\"dataframe\">\n",
       "  <thead>\n",
       "    <tr style=\"text-align: right;\">\n",
       "      <th></th>\n",
       "      <th>0</th>\n",
       "      <th>1</th>\n",
       "      <th>2</th>\n",
       "      <th>3</th>\n",
       "      <th>4</th>\n",
       "      <th>5</th>\n",
       "      <th>6</th>\n",
       "      <th>7</th>\n",
       "      <th>8</th>\n",
       "      <th>9</th>\n",
       "      <th>...</th>\n",
       "      <th>600</th>\n",
       "      <th>601</th>\n",
       "      <th>602</th>\n",
       "      <th>603</th>\n",
       "      <th>604</th>\n",
       "      <th>605</th>\n",
       "      <th>606</th>\n",
       "      <th>607</th>\n",
       "      <th>608</th>\n",
       "      <th>609</th>\n",
       "    </tr>\n",
       "  </thead>\n",
       "  <tbody>\n",
       "    <tr>\n",
       "      <td>0</td>\n",
       "      <td>1.000000</td>\n",
       "      <td>0.001265</td>\n",
       "      <td>0.000553</td>\n",
       "      <td>0.048419</td>\n",
       "      <td>0.021847</td>\n",
       "      <td>-0.045497</td>\n",
       "      <td>-0.006200</td>\n",
       "      <td>0.047013</td>\n",
       "      <td>0.019510</td>\n",
       "      <td>-0.008754</td>\n",
       "      <td>...</td>\n",
       "      <td>0.018127</td>\n",
       "      <td>-0.017172</td>\n",
       "      <td>-0.015221</td>\n",
       "      <td>-0.037059</td>\n",
       "      <td>-0.029121</td>\n",
       "      <td>0.012016</td>\n",
       "      <td>0.055261</td>\n",
       "      <td>0.075224</td>\n",
       "      <td>-0.025713</td>\n",
       "      <td>0.010932</td>\n",
       "    </tr>\n",
       "    <tr>\n",
       "      <td>1</td>\n",
       "      <td>0.001265</td>\n",
       "      <td>1.000000</td>\n",
       "      <td>0.000000</td>\n",
       "      <td>-0.017164</td>\n",
       "      <td>0.021796</td>\n",
       "      <td>-0.021051</td>\n",
       "      <td>-0.011114</td>\n",
       "      <td>-0.048085</td>\n",
       "      <td>0.000000</td>\n",
       "      <td>0.003012</td>\n",
       "      <td>...</td>\n",
       "      <td>-0.050551</td>\n",
       "      <td>-0.031581</td>\n",
       "      <td>-0.001688</td>\n",
       "      <td>0.000000</td>\n",
       "      <td>0.000000</td>\n",
       "      <td>0.006226</td>\n",
       "      <td>-0.020504</td>\n",
       "      <td>-0.006001</td>\n",
       "      <td>-0.060091</td>\n",
       "      <td>0.024999</td>\n",
       "    </tr>\n",
       "    <tr>\n",
       "      <td>2</td>\n",
       "      <td>0.000553</td>\n",
       "      <td>0.000000</td>\n",
       "      <td>1.000000</td>\n",
       "      <td>-0.011260</td>\n",
       "      <td>-0.031539</td>\n",
       "      <td>0.004800</td>\n",
       "      <td>0.000000</td>\n",
       "      <td>-0.032471</td>\n",
       "      <td>0.000000</td>\n",
       "      <td>0.000000</td>\n",
       "      <td>...</td>\n",
       "      <td>-0.004904</td>\n",
       "      <td>-0.016117</td>\n",
       "      <td>0.017749</td>\n",
       "      <td>0.000000</td>\n",
       "      <td>-0.001431</td>\n",
       "      <td>-0.037289</td>\n",
       "      <td>-0.007789</td>\n",
       "      <td>-0.013001</td>\n",
       "      <td>0.000000</td>\n",
       "      <td>0.019550</td>\n",
       "    </tr>\n",
       "    <tr>\n",
       "      <td>3</td>\n",
       "      <td>0.048419</td>\n",
       "      <td>-0.017164</td>\n",
       "      <td>-0.011260</td>\n",
       "      <td>1.000000</td>\n",
       "      <td>-0.029620</td>\n",
       "      <td>0.013956</td>\n",
       "      <td>0.058091</td>\n",
       "      <td>0.002065</td>\n",
       "      <td>-0.005874</td>\n",
       "      <td>0.051590</td>\n",
       "      <td>...</td>\n",
       "      <td>-0.037687</td>\n",
       "      <td>0.063122</td>\n",
       "      <td>0.027640</td>\n",
       "      <td>-0.013782</td>\n",
       "      <td>0.040037</td>\n",
       "      <td>0.020590</td>\n",
       "      <td>0.014628</td>\n",
       "      <td>-0.037569</td>\n",
       "      <td>-0.017884</td>\n",
       "      <td>-0.000995</td>\n",
       "    </tr>\n",
       "    <tr>\n",
       "      <td>4</td>\n",
       "      <td>0.021847</td>\n",
       "      <td>0.021796</td>\n",
       "      <td>-0.031539</td>\n",
       "      <td>-0.029620</td>\n",
       "      <td>1.000000</td>\n",
       "      <td>0.009111</td>\n",
       "      <td>0.010117</td>\n",
       "      <td>-0.012284</td>\n",
       "      <td>0.000000</td>\n",
       "      <td>-0.033165</td>\n",
       "      <td>...</td>\n",
       "      <td>0.015964</td>\n",
       "      <td>0.012427</td>\n",
       "      <td>0.027076</td>\n",
       "      <td>0.012461</td>\n",
       "      <td>-0.036272</td>\n",
       "      <td>0.026319</td>\n",
       "      <td>0.031896</td>\n",
       "      <td>-0.001751</td>\n",
       "      <td>0.093829</td>\n",
       "      <td>-0.000278</td>\n",
       "    </tr>\n",
       "    <tr>\n",
       "      <td>...</td>\n",
       "      <td>...</td>\n",
       "      <td>...</td>\n",
       "      <td>...</td>\n",
       "      <td>...</td>\n",
       "      <td>...</td>\n",
       "      <td>...</td>\n",
       "      <td>...</td>\n",
       "      <td>...</td>\n",
       "      <td>...</td>\n",
       "      <td>...</td>\n",
       "      <td>...</td>\n",
       "      <td>...</td>\n",
       "      <td>...</td>\n",
       "      <td>...</td>\n",
       "      <td>...</td>\n",
       "      <td>...</td>\n",
       "      <td>...</td>\n",
       "      <td>...</td>\n",
       "      <td>...</td>\n",
       "      <td>...</td>\n",
       "      <td>...</td>\n",
       "    </tr>\n",
       "    <tr>\n",
       "      <td>605</td>\n",
       "      <td>0.012016</td>\n",
       "      <td>0.006226</td>\n",
       "      <td>-0.037289</td>\n",
       "      <td>0.020590</td>\n",
       "      <td>0.026319</td>\n",
       "      <td>-0.009137</td>\n",
       "      <td>0.028326</td>\n",
       "      <td>0.022277</td>\n",
       "      <td>0.031633</td>\n",
       "      <td>-0.039946</td>\n",
       "      <td>...</td>\n",
       "      <td>0.053683</td>\n",
       "      <td>0.016384</td>\n",
       "      <td>0.098011</td>\n",
       "      <td>0.061078</td>\n",
       "      <td>0.019678</td>\n",
       "      <td>1.000000</td>\n",
       "      <td>0.017927</td>\n",
       "      <td>0.056676</td>\n",
       "      <td>0.038422</td>\n",
       "      <td>0.075464</td>\n",
       "    </tr>\n",
       "    <tr>\n",
       "      <td>606</td>\n",
       "      <td>0.055261</td>\n",
       "      <td>-0.020504</td>\n",
       "      <td>-0.007789</td>\n",
       "      <td>0.014628</td>\n",
       "      <td>0.031896</td>\n",
       "      <td>0.045501</td>\n",
       "      <td>0.030981</td>\n",
       "      <td>0.048822</td>\n",
       "      <td>-0.012161</td>\n",
       "      <td>-0.017656</td>\n",
       "      <td>...</td>\n",
       "      <td>0.049059</td>\n",
       "      <td>0.038197</td>\n",
       "      <td>0.049317</td>\n",
       "      <td>0.002355</td>\n",
       "      <td>-0.029381</td>\n",
       "      <td>0.017927</td>\n",
       "      <td>1.000000</td>\n",
       "      <td>0.044514</td>\n",
       "      <td>0.019049</td>\n",
       "      <td>0.021860</td>\n",
       "    </tr>\n",
       "    <tr>\n",
       "      <td>607</td>\n",
       "      <td>0.075224</td>\n",
       "      <td>-0.006001</td>\n",
       "      <td>-0.013001</td>\n",
       "      <td>-0.037569</td>\n",
       "      <td>-0.001751</td>\n",
       "      <td>0.021727</td>\n",
       "      <td>0.028414</td>\n",
       "      <td>0.071759</td>\n",
       "      <td>0.032783</td>\n",
       "      <td>-0.052000</td>\n",
       "      <td>...</td>\n",
       "      <td>0.069198</td>\n",
       "      <td>0.051388</td>\n",
       "      <td>0.012801</td>\n",
       "      <td>0.006319</td>\n",
       "      <td>-0.007978</td>\n",
       "      <td>0.056676</td>\n",
       "      <td>0.044514</td>\n",
       "      <td>1.000000</td>\n",
       "      <td>0.050714</td>\n",
       "      <td>0.054454</td>\n",
       "    </tr>\n",
       "    <tr>\n",
       "      <td>608</td>\n",
       "      <td>-0.025713</td>\n",
       "      <td>-0.060091</td>\n",
       "      <td>0.000000</td>\n",
       "      <td>-0.017884</td>\n",
       "      <td>0.093829</td>\n",
       "      <td>0.053017</td>\n",
       "      <td>0.008754</td>\n",
       "      <td>0.077180</td>\n",
       "      <td>0.000000</td>\n",
       "      <td>-0.040090</td>\n",
       "      <td>...</td>\n",
       "      <td>0.043465</td>\n",
       "      <td>0.062400</td>\n",
       "      <td>0.015334</td>\n",
       "      <td>0.094038</td>\n",
       "      <td>-0.054722</td>\n",
       "      <td>0.038422</td>\n",
       "      <td>0.019049</td>\n",
       "      <td>0.050714</td>\n",
       "      <td>1.000000</td>\n",
       "      <td>-0.012471</td>\n",
       "    </tr>\n",
       "    <tr>\n",
       "      <td>609</td>\n",
       "      <td>0.010932</td>\n",
       "      <td>0.024999</td>\n",
       "      <td>0.019550</td>\n",
       "      <td>-0.000995</td>\n",
       "      <td>-0.000278</td>\n",
       "      <td>0.009603</td>\n",
       "      <td>0.068430</td>\n",
       "      <td>0.017144</td>\n",
       "      <td>0.051898</td>\n",
       "      <td>-0.026004</td>\n",
       "      <td>...</td>\n",
       "      <td>0.021603</td>\n",
       "      <td>0.030061</td>\n",
       "      <td>0.051255</td>\n",
       "      <td>0.015621</td>\n",
       "      <td>0.069837</td>\n",
       "      <td>0.075464</td>\n",
       "      <td>0.021860</td>\n",
       "      <td>0.054454</td>\n",
       "      <td>-0.012471</td>\n",
       "      <td>1.000000</td>\n",
       "    </tr>\n",
       "  </tbody>\n",
       "</table>\n",
       "<p>610 rows × 610 columns</p>\n",
       "</div>"
      ],
      "text/plain": [
       "          0         1         2         3         4         5         6    \\\n",
       "0    1.000000  0.001265  0.000553  0.048419  0.021847 -0.045497 -0.006200   \n",
       "1    0.001265  1.000000  0.000000 -0.017164  0.021796 -0.021051 -0.011114   \n",
       "2    0.000553  0.000000  1.000000 -0.011260 -0.031539  0.004800  0.000000   \n",
       "3    0.048419 -0.017164 -0.011260  1.000000 -0.029620  0.013956  0.058091   \n",
       "4    0.021847  0.021796 -0.031539 -0.029620  1.000000  0.009111  0.010117   \n",
       "..        ...       ...       ...       ...       ...       ...       ...   \n",
       "605  0.012016  0.006226 -0.037289  0.020590  0.026319 -0.009137  0.028326   \n",
       "606  0.055261 -0.020504 -0.007789  0.014628  0.031896  0.045501  0.030981   \n",
       "607  0.075224 -0.006001 -0.013001 -0.037569 -0.001751  0.021727  0.028414   \n",
       "608 -0.025713 -0.060091  0.000000 -0.017884  0.093829  0.053017  0.008754   \n",
       "609  0.010932  0.024999  0.019550 -0.000995 -0.000278  0.009603  0.068430   \n",
       "\n",
       "          7         8         9    ...       600       601       602  \\\n",
       "0    0.047013  0.019510 -0.008754  ...  0.018127 -0.017172 -0.015221   \n",
       "1   -0.048085  0.000000  0.003012  ... -0.050551 -0.031581 -0.001688   \n",
       "2   -0.032471  0.000000  0.000000  ... -0.004904 -0.016117  0.017749   \n",
       "3    0.002065 -0.005874  0.051590  ... -0.037687  0.063122  0.027640   \n",
       "4   -0.012284  0.000000 -0.033165  ...  0.015964  0.012427  0.027076   \n",
       "..        ...       ...       ...  ...       ...       ...       ...   \n",
       "605  0.022277  0.031633 -0.039946  ...  0.053683  0.016384  0.098011   \n",
       "606  0.048822 -0.012161 -0.017656  ...  0.049059  0.038197  0.049317   \n",
       "607  0.071759  0.032783 -0.052000  ...  0.069198  0.051388  0.012801   \n",
       "608  0.077180  0.000000 -0.040090  ...  0.043465  0.062400  0.015334   \n",
       "609  0.017144  0.051898 -0.026004  ...  0.021603  0.030061  0.051255   \n",
       "\n",
       "          603       604       605       606       607       608       609  \n",
       "0   -0.037059 -0.029121  0.012016  0.055261  0.075224 -0.025713  0.010932  \n",
       "1    0.000000  0.000000  0.006226 -0.020504 -0.006001 -0.060091  0.024999  \n",
       "2    0.000000 -0.001431 -0.037289 -0.007789 -0.013001  0.000000  0.019550  \n",
       "3   -0.013782  0.040037  0.020590  0.014628 -0.037569 -0.017884 -0.000995  \n",
       "4    0.012461 -0.036272  0.026319  0.031896 -0.001751  0.093829 -0.000278  \n",
       "..        ...       ...       ...       ...       ...       ...       ...  \n",
       "605  0.061078  0.019678  1.000000  0.017927  0.056676  0.038422  0.075464  \n",
       "606  0.002355 -0.029381  0.017927  1.000000  0.044514  0.019049  0.021860  \n",
       "607  0.006319 -0.007978  0.056676  0.044514  1.000000  0.050714  0.054454  \n",
       "608  0.094038 -0.054722  0.038422  0.019049  0.050714  1.000000 -0.012471  \n",
       "609  0.015621  0.069837  0.075464  0.021860  0.054454 -0.012471  1.000000  \n",
       "\n",
       "[610 rows x 610 columns]"
      ]
     },
     "execution_count": 11,
     "metadata": {},
     "output_type": "execute_result"
    }
   ],
   "source": [
    "similarity_df"
   ]
  },
  {
   "cell_type": "code",
   "execution_count": 12,
   "metadata": {
    "ExecuteTime": {
     "end_time": "2019-11-01T06:12:53.792048Z",
     "start_time": "2019-11-01T06:12:45.169270Z"
    }
   },
   "outputs": [
    {
     "name": "stderr",
     "output_type": "stream",
     "text": [
      "100%|██████████| 610/610 [00:08<00:00, 70.84it/s]\n"
     ]
    }
   ],
   "source": [
    "user_similarity_dict={}\n",
    "for i in tqdm(range(similarity_df.shape[0])):\n",
    "    sorted_similarity=heapq.nlargest(10,similarity_df.iloc[i])[1:]\n",
    "    dict1={}\n",
    "    for j in sorted_similarity:\n",
    "        dict1[similarity_df.iloc[i][similarity_df.iloc[i]==j].index.values[0]+1]=j\n",
    "    user_similarity_dict[i+1]=dict1"
   ]
  },
  {
   "cell_type": "code",
   "execution_count": 13,
   "metadata": {
    "ExecuteTime": {
     "end_time": "2019-11-01T06:13:00.410004Z",
     "start_time": "2019-11-01T06:12:54.119088Z"
    }
   },
   "outputs": [
    {
     "name": "stderr",
     "output_type": "stream",
     "text": [
      "100%|██████████| 610/610 [00:06<00:00, 92.44it/s] \n"
     ]
    }
   ],
   "source": [
    "count=0\n",
    "len1=0\n",
    "len2=0\n",
    "len3=0\n",
    "len4=0\n",
    "for i in tqdm(user_movie_rating.index):\n",
    "    if len(list(user_similarity_dict[i].keys()))==1:\n",
    "        non_null_movies=list(user_movie_rating.loc[i][user_movie_rating.loc[i].isna()==False].index)\n",
    "        k0=user_movie_rating.loc[list(user_similarity_dict[i].keys())[0]]\n",
    "        k0=k0[k0.index.isin(non_null_movies)]\n",
    "        k0.fillna(0,inplace=True)\n",
    "        a=list(user_similarity_dict[i].values())[0]\n",
    "        predicted_data=k0\n",
    "        predicted_data=np.ceil(predicted_data*2)/2\n",
    "        predicted_data=predicted_data.replace(6.0,5.0)\n",
    "        predicted_data=predicted_data.replace(5.5,5.0)\n",
    "        actual_data=user_movie_rating.loc[i][user_movie_rating.loc[i].isna()==False]\n",
    "        actual_more_than_4=actual_data[actual_data.values>=4]\n",
    "        predicted_in_actual_more_than_4=predicted_data[predicted_data.index.isin(actual_more_than_4.index)]\n",
    "        predicted_more_than_4_in_actual_more_than_4=predicted_in_actual_more_than_4[np.abs(predicted_in_actual_more_than_4.values-actual_more_than_4.values)<=1]\n",
    "        predicted_more_than_4_in_actual_more_than_4=predicted_more_than_4_in_actual_more_than_4[predicted_more_than_4_in_actual_more_than_4.values>=4]\n",
    "        len1=len1+len(actual_more_than_4)\n",
    "        len2=len2+len(predicted_more_than_4_in_actual_more_than_4)\n",
    "        predicted_more_than_4=predicted_data[predicted_data.values>=4]\n",
    "        actual_in_predicted_more_than_4=actual_data[actual_data.index.isin(predicted_more_than_4.index)]\n",
    "        actual_more_than_4_in_predicted_more_than_4=actual_in_predicted_more_than_4[np.abs(actual_in_predicted_more_than_4.values-predicted_more_than_4)<=1]\n",
    "        actual_more_than_4_in_predicted_more_than_4=actual_more_than_4_in_predicted_more_than_4[actual_more_than_4_in_predicted_more_than_4.values>=4]\n",
    "        len3=len3+len(predicted_more_than_4)\n",
    "        len4=len4+len(actual_more_than_4_in_predicted_more_than_4)\n",
    "    elif len(list(user_similarity_dict[i].keys()))==2:\n",
    "        non_null_movies=list(user_movie_rating.loc[i][user_movie_rating.loc[i].isna()==False].index)\n",
    "        k0=user_movie_rating.loc[list(user_similarity_dict[i].keys())[0]]\n",
    "        k0=k0[k0.index.isin(non_null_movies)]\n",
    "        k0.fillna(0,inplace=True)\n",
    "        k1=user_movie_rating.loc[list(user_similarity_dict[i].keys())[1]]\n",
    "        k1=k1[k1.index.isin(non_null_movies)]\n",
    "        k1.fillna(0,inplace=True)\n",
    "        predicted_data=(k0+k1)/2\n",
    "        predicted_data=np.ceil(predicted_data*2)/2\n",
    "        predicted_data=predicted_data.replace(6.0,5.0)\n",
    "        predicted_data=predicted_data.replace(5.5,5.0)\n",
    "        actual_data=user_movie_rating.loc[i][user_movie_rating.loc[i].isna()==False]\n",
    "        actual_more_than_4=actual_data[actual_data.values>=4]\n",
    "        predicted_in_actual_more_than_4=predicted_data[predicted_data.index.isin(actual_more_than_4.index)]\n",
    "        predicted_more_than_4_in_actual_more_than_4=predicted_in_actual_more_than_4[np.abs(predicted_in_actual_more_than_4.values-actual_more_than_4.values)<=1]\n",
    "        predicted_more_than_4_in_actual_more_than_4=predicted_more_than_4_in_actual_more_than_4[predicted_more_than_4_in_actual_more_than_4.values>=4]\n",
    "        len1=len1+len(actual_more_than_4)\n",
    "        len2=len2+len(predicted_more_than_4_in_actual_more_than_4)\n",
    "        predicted_more_than_4=predicted_data[predicted_data.values>=4]\n",
    "        actual_in_predicted_more_than_4=actual_data[actual_data.index.isin(predicted_more_than_4.index)]\n",
    "        actual_more_than_4_in_predicted_more_than_4=actual_in_predicted_more_than_4[np.abs(actual_in_predicted_more_than_4.values-predicted_more_than_4)<=1]\n",
    "        actual_more_than_4_in_predicted_more_than_4=actual_more_than_4_in_predicted_more_than_4[actual_more_than_4_in_predicted_more_than_4.values>=4]\n",
    "        len3=len3+len(predicted_more_than_4)\n",
    "        len4=len4+len(actual_more_than_4_in_predicted_more_than_4)\n",
    "    elif len(list(user_similarity_dict[i].keys()))>=3:\n",
    "        non_null_movies=list(user_movie_rating.loc[i][user_movie_rating.loc[i].isna()==False].index)\n",
    "        k0=user_movie_rating.loc[list(user_similarity_dict[i].keys())[0]]\n",
    "        k0=k0[k0.index.isin(non_null_movies)]\n",
    "        k0.fillna(0,inplace=True)\n",
    "        k1=user_movie_rating.loc[list(user_similarity_dict[i].keys())[1]]\n",
    "        k1=k1[k1.index.isin(non_null_movies)]\n",
    "        k1.fillna(0,inplace=True)\n",
    "        k2=user_movie_rating.loc[list(user_similarity_dict[i].keys())[2]]\n",
    "        k2=k2[k2.index.isin(non_null_movies)]\n",
    "        k2.fillna(0,inplace=True)\n",
    "        predicted_data=(k0+k1+k2)/3\n",
    "        predicted_data=np.ceil(predicted_data*2)/2\n",
    "        predicted_data=predicted_data.replace(6.0,5.0)\n",
    "        predicted_data=predicted_data.replace(5.5,5.0)\n",
    "        actual_data=user_movie_rating.loc[i][user_movie_rating.loc[i].isna()==False]\n",
    "        actual_more_than_4=actual_data[actual_data.values>=4]\n",
    "        predicted_in_actual_more_than_4=predicted_data[predicted_data.index.isin(actual_more_than_4.index)]\n",
    "        predicted_more_than_4_in_actual_more_than_4=predicted_in_actual_more_than_4[np.abs(predicted_in_actual_more_than_4.values-actual_more_than_4.values)<=1]\n",
    "        predicted_more_than_4_in_actual_more_than_4=predicted_more_than_4_in_actual_more_than_4[predicted_more_than_4_in_actual_more_than_4.values>=4]\n",
    "        len1=len1+len(actual_more_than_4)\n",
    "        len2=len2+len(predicted_more_than_4_in_actual_more_than_4)\n",
    "        predicted_more_than_4=predicted_data[predicted_data.values>=4]\n",
    "        actual_in_predicted_more_than_4=actual_data[actual_data.index.isin(predicted_more_than_4.index)]\n",
    "        actual_more_than_4_in_predicted_more_than_4=actual_in_predicted_more_than_4[np.abs(actual_in_predicted_more_than_4.values-predicted_more_than_4)<=1]\n",
    "        actual_more_than_4_in_predicted_more_than_4=actual_more_than_4_in_predicted_more_than_4[actual_more_than_4_in_predicted_more_than_4.values>=4]\n",
    "        len3=len3+len(predicted_more_than_4)\n",
    "        len4=len4+len(actual_more_than_4_in_predicted_more_than_4)"
   ]
  },
  {
   "cell_type": "code",
   "execution_count": 14,
   "metadata": {
    "ExecuteTime": {
     "end_time": "2019-11-01T06:13:00.782418Z",
     "start_time": "2019-11-01T06:13:00.777595Z"
    }
   },
   "outputs": [],
   "source": [
    "p=len2/len1"
   ]
  },
  {
   "cell_type": "code",
   "execution_count": 15,
   "metadata": {
    "ExecuteTime": {
     "end_time": "2019-11-01T06:13:04.463951Z",
     "start_time": "2019-11-01T06:13:04.460667Z"
    }
   },
   "outputs": [],
   "source": [
    "r=len4/len3"
   ]
  },
  {
   "cell_type": "code",
   "execution_count": 16,
   "metadata": {
    "ExecuteTime": {
     "end_time": "2019-11-01T06:13:05.337654Z",
     "start_time": "2019-11-01T06:13:05.328152Z"
    }
   },
   "outputs": [
    {
     "data": {
      "text/plain": [
       "0.1454390578126736"
      ]
     },
     "execution_count": 16,
     "metadata": {},
     "output_type": "execute_result"
    }
   ],
   "source": [
    "2*p*r/(p+r)"
   ]
  }
 ],
 "metadata": {
  "kernelspec": {
   "display_name": "Python 3",
   "language": "python",
   "name": "python3"
  },
  "language_info": {
   "codemirror_mode": {
    "name": "ipython",
    "version": 3
   },
   "file_extension": ".py",
   "mimetype": "text/x-python",
   "name": "python",
   "nbconvert_exporter": "python",
   "pygments_lexer": "ipython3",
   "version": "3.7.3"
  },
  "toc": {
   "base_numbering": 1,
   "nav_menu": {},
   "number_sections": true,
   "sideBar": true,
   "skip_h1_title": false,
   "title_cell": "Table of Contents",
   "title_sidebar": "Contents",
   "toc_cell": false,
   "toc_position": {},
   "toc_section_display": true,
   "toc_window_display": false
  },
  "varInspector": {
   "cols": {
    "lenName": 16,
    "lenType": 16,
    "lenVar": 40
   },
   "kernels_config": {
    "python": {
     "delete_cmd_postfix": "",
     "delete_cmd_prefix": "del ",
     "library": "var_list.py",
     "varRefreshCmd": "print(var_dic_list())"
    },
    "r": {
     "delete_cmd_postfix": ") ",
     "delete_cmd_prefix": "rm(",
     "library": "var_list.r",
     "varRefreshCmd": "cat(var_dic_list()) "
    }
   },
   "types_to_exclude": [
    "module",
    "function",
    "builtin_function_or_method",
    "instance",
    "_Feature"
   ],
   "window_display": false
  }
 },
 "nbformat": 4,
 "nbformat_minor": 2
}
