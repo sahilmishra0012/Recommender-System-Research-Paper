{
 "cells": [
  {
   "cell_type": "code",
   "execution_count": 1,
   "metadata": {
    "ExecuteTime": {
     "end_time": "2019-12-11T03:44:39.173113Z",
     "start_time": "2019-12-11T03:44:38.839628Z"
    }
   },
   "outputs": [],
   "source": [
    "import warnings\n",
    "warnings.filterwarnings(\"ignore\")\n",
    "import numpy as np\n",
    "import pandas as pd\n",
    "import matplotlib.pyplot as plt\n",
    "from tqdm import tqdm\n",
    "import heapq"
   ]
  },
  {
   "cell_type": "code",
   "execution_count": 2,
   "metadata": {
    "ExecuteTime": {
     "end_time": "2019-12-11T03:44:39.543744Z",
     "start_time": "2019-12-11T03:44:39.513300Z"
    }
   },
   "outputs": [],
   "source": [
    "df=pd.read_csv('ratings.csv')"
   ]
  },
  {
   "cell_type": "code",
   "execution_count": 3,
   "metadata": {
    "ExecuteTime": {
     "end_time": "2019-12-11T03:44:39.907760Z",
     "start_time": "2019-12-11T03:44:39.743541Z"
    }
   },
   "outputs": [],
   "source": [
    "user_movie_rating = df.pivot_table(index='userId', columns='movieId', values='rating')"
   ]
  },
  {
   "cell_type": "code",
   "execution_count": 4,
   "metadata": {
    "ExecuteTime": {
     "end_time": "2019-12-11T03:44:40.678983Z",
     "start_time": "2019-12-11T03:44:40.675879Z"
    }
   },
   "outputs": [],
   "source": [
    "dist=[]\n",
    "klen=[]"
   ]
  },
  {
   "cell_type": "code",
   "execution_count": 5,
   "metadata": {
    "ExecuteTime": {
     "end_time": "2019-12-11T04:06:54.547482Z",
     "start_time": "2019-12-11T03:44:41.118575Z"
    }
   },
   "outputs": [
    {
     "name": "stderr",
     "output_type": "stream",
     "text": [
      "100%|██████████| 610/610 [22:13<00:00,  2.42s/it]\n"
     ]
    }
   ],
   "source": [
    "for j in tqdm(range(1,len(user_movie_rating.index)+1)):\n",
    "    dist_temp=[]\n",
    "    klen_temp=[]\n",
    "    for i in range(1,len(user_movie_rating.index)+1):\n",
    "        user1_rating=user_movie_rating.iloc[j-1][user_movie_rating.iloc[j-1].isna()==False]\n",
    "        user1_movieId=list(user_movie_rating.iloc[j-1][user_movie_rating.iloc[j-1].isna()==False].index)\n",
    "        user_i_rating=user_movie_rating.iloc[i-1][user_movie_rating.iloc[i-1].isna()==False]\n",
    "        user_i_1_rating=user_i_rating[user_i_rating.index.isin(user1_movieId)]\n",
    "        user_i_1_movieId=list(user_i_1_rating.index)\n",
    "        user1_i_rating=user1_rating[user1_rating.index.isin(user_i_1_movieId)]\n",
    "        a=sum(user1_i_rating*user_i_1_rating)\n",
    "        b=np.sqrt(sum(np.square(user_i_1_rating)))\n",
    "        c=np.sqrt(sum(np.square(user1_rating)))\n",
    "        k=a/(b*c)\n",
    "        klen_temp.append(k)\n",
    "        dist_temp.append(np.cos(k))\n",
    "    klen.append(klen_temp)\n",
    "    dist.append(dist_temp)"
   ]
  },
  {
   "cell_type": "code",
   "execution_count": 6,
   "metadata": {
    "ExecuteTime": {
     "end_time": "2019-12-11T04:14:55.258396Z",
     "start_time": "2019-12-11T04:14:55.158009Z"
    }
   },
   "outputs": [],
   "source": [
    "df1=pd.DataFrame(klen)"
   ]
  },
  {
   "cell_type": "code",
   "execution_count": 7,
   "metadata": {
    "ExecuteTime": {
     "end_time": "2019-12-11T04:14:57.440656Z",
     "start_time": "2019-12-11T04:14:57.413053Z"
    }
   },
   "outputs": [
    {
     "data": {
      "text/html": [
       "<div>\n",
       "<style scoped>\n",
       "    .dataframe tbody tr th:only-of-type {\n",
       "        vertical-align: middle;\n",
       "    }\n",
       "\n",
       "    .dataframe tbody tr th {\n",
       "        vertical-align: top;\n",
       "    }\n",
       "\n",
       "    .dataframe thead th {\n",
       "        text-align: right;\n",
       "    }\n",
       "</style>\n",
       "<table border=\"1\" class=\"dataframe\">\n",
       "  <thead>\n",
       "    <tr style=\"text-align: right;\">\n",
       "      <th></th>\n",
       "      <th>0</th>\n",
       "      <th>1</th>\n",
       "      <th>2</th>\n",
       "      <th>3</th>\n",
       "      <th>4</th>\n",
       "      <th>5</th>\n",
       "      <th>6</th>\n",
       "      <th>7</th>\n",
       "      <th>8</th>\n",
       "      <th>9</th>\n",
       "      <th>...</th>\n",
       "      <th>600</th>\n",
       "      <th>601</th>\n",
       "      <th>602</th>\n",
       "      <th>603</th>\n",
       "      <th>604</th>\n",
       "      <th>605</th>\n",
       "      <th>606</th>\n",
       "      <th>607</th>\n",
       "      <th>608</th>\n",
       "      <th>609</th>\n",
       "    </tr>\n",
       "  </thead>\n",
       "  <tbody>\n",
       "    <tr>\n",
       "      <td>0</td>\n",
       "      <td>1.000000</td>\n",
       "      <td>0.104587</td>\n",
       "      <td>0.150911</td>\n",
       "      <td>0.417348</td>\n",
       "      <td>0.221978</td>\n",
       "      <td>0.348139</td>\n",
       "      <td>0.322308</td>\n",
       "      <td>0.238162</td>\n",
       "      <td>0.147279</td>\n",
       "      <td>0.125363</td>\n",
       "      <td>...</td>\n",
       "      <td>0.235317</td>\n",
       "      <td>0.315847</td>\n",
       "      <td>0.647387</td>\n",
       "      <td>0.193994</td>\n",
       "      <td>0.363997</td>\n",
       "      <td>0.587516</td>\n",
       "      <td>0.478127</td>\n",
       "      <td>0.723793</td>\n",
       "      <td>0.179922</td>\n",
       "      <td>0.542750</td>\n",
       "    </tr>\n",
       "    <tr>\n",
       "      <td>1</td>\n",
       "      <td>0.260862</td>\n",
       "      <td>1.000000</td>\n",
       "      <td>NaN</td>\n",
       "      <td>0.207514</td>\n",
       "      <td>0.138343</td>\n",
       "      <td>0.228254</td>\n",
       "      <td>0.244951</td>\n",
       "      <td>0.138343</td>\n",
       "      <td>NaN</td>\n",
       "      <td>0.351441</td>\n",
       "      <td>...</td>\n",
       "      <td>0.593318</td>\n",
       "      <td>0.138343</td>\n",
       "      <td>0.272074</td>\n",
       "      <td>NaN</td>\n",
       "      <td>NaN</td>\n",
       "      <td>0.402684</td>\n",
       "      <td>0.138343</td>\n",
       "      <td>0.431933</td>\n",
       "      <td>0.138343</td>\n",
       "      <td>0.759861</td>\n",
       "    </tr>\n",
       "    <tr>\n",
       "      <td>2</td>\n",
       "      <td>0.313381</td>\n",
       "      <td>NaN</td>\n",
       "      <td>1.000000</td>\n",
       "      <td>0.025078</td>\n",
       "      <td>0.025078</td>\n",
       "      <td>0.043009</td>\n",
       "      <td>NaN</td>\n",
       "      <td>0.025078</td>\n",
       "      <td>NaN</td>\n",
       "      <td>NaN</td>\n",
       "      <td>...</td>\n",
       "      <td>0.035249</td>\n",
       "      <td>0.034407</td>\n",
       "      <td>0.252461</td>\n",
       "      <td>NaN</td>\n",
       "      <td>0.175549</td>\n",
       "      <td>0.147051</td>\n",
       "      <td>0.142588</td>\n",
       "      <td>0.200632</td>\n",
       "      <td>NaN</td>\n",
       "      <td>0.413315</td>\n",
       "    </tr>\n",
       "    <tr>\n",
       "      <td>3</td>\n",
       "      <td>0.434490</td>\n",
       "      <td>0.017955</td>\n",
       "      <td>0.089774</td>\n",
       "      <td>1.000000</td>\n",
       "      <td>0.221254</td>\n",
       "      <td>0.293492</td>\n",
       "      <td>0.294185</td>\n",
       "      <td>0.142927</td>\n",
       "      <td>0.053864</td>\n",
       "      <td>0.161739</td>\n",
       "      <td>...</td>\n",
       "      <td>0.214792</td>\n",
       "      <td>0.282411</td>\n",
       "      <td>0.739182</td>\n",
       "      <td>0.162861</td>\n",
       "      <td>0.278942</td>\n",
       "      <td>0.619889</td>\n",
       "      <td>0.351036</td>\n",
       "      <td>0.472852</td>\n",
       "      <td>0.100946</td>\n",
       "      <td>0.464020</td>\n",
       "    </tr>\n",
       "    <tr>\n",
       "      <td>4</td>\n",
       "      <td>0.564502</td>\n",
       "      <td>0.120096</td>\n",
       "      <td>0.200160</td>\n",
       "      <td>0.524010</td>\n",
       "      <td>1.000000</td>\n",
       "      <td>0.826520</td>\n",
       "      <td>0.434423</td>\n",
       "      <td>0.598498</td>\n",
       "      <td>NaN</td>\n",
       "      <td>0.233161</td>\n",
       "      <td>...</td>\n",
       "      <td>0.318934</td>\n",
       "      <td>0.744576</td>\n",
       "      <td>0.700404</td>\n",
       "      <td>0.585851</td>\n",
       "      <td>0.563945</td>\n",
       "      <td>0.731921</td>\n",
       "      <td>0.529358</td>\n",
       "      <td>0.755924</td>\n",
       "      <td>0.469055</td>\n",
       "      <td>0.526942</td>\n",
       "    </tr>\n",
       "    <tr>\n",
       "      <td>...</td>\n",
       "      <td>...</td>\n",
       "      <td>...</td>\n",
       "      <td>...</td>\n",
       "      <td>...</td>\n",
       "      <td>...</td>\n",
       "      <td>...</td>\n",
       "      <td>...</td>\n",
       "      <td>...</td>\n",
       "      <td>...</td>\n",
       "      <td>...</td>\n",
       "      <td>...</td>\n",
       "      <td>...</td>\n",
       "      <td>...</td>\n",
       "      <td>...</td>\n",
       "      <td>...</td>\n",
       "      <td>...</td>\n",
       "      <td>...</td>\n",
       "      <td>...</td>\n",
       "      <td>...</td>\n",
       "      <td>...</td>\n",
       "      <td>...</td>\n",
       "    </tr>\n",
       "    <tr>\n",
       "      <td>605</td>\n",
       "      <td>0.270351</td>\n",
       "      <td>0.070142</td>\n",
       "      <td>0.041614</td>\n",
       "      <td>0.301872</td>\n",
       "      <td>0.139740</td>\n",
       "      <td>0.217118</td>\n",
       "      <td>0.252631</td>\n",
       "      <td>0.138632</td>\n",
       "      <td>0.116142</td>\n",
       "      <td>0.179305</td>\n",
       "      <td>...</td>\n",
       "      <td>0.238555</td>\n",
       "      <td>0.189215</td>\n",
       "      <td>0.519080</td>\n",
       "      <td>0.137259</td>\n",
       "      <td>0.244855</td>\n",
       "      <td>1.000000</td>\n",
       "      <td>0.239160</td>\n",
       "      <td>0.444146</td>\n",
       "      <td>0.109472</td>\n",
       "      <td>0.440242</td>\n",
       "    </tr>\n",
       "    <tr>\n",
       "      <td>606</td>\n",
       "      <td>0.539902</td>\n",
       "      <td>0.093593</td>\n",
       "      <td>0.075620</td>\n",
       "      <td>0.342868</td>\n",
       "      <td>0.275583</td>\n",
       "      <td>0.431277</td>\n",
       "      <td>0.366632</td>\n",
       "      <td>0.300168</td>\n",
       "      <td>0.056156</td>\n",
       "      <td>0.126956</td>\n",
       "      <td>...</td>\n",
       "      <td>0.277958</td>\n",
       "      <td>0.374220</td>\n",
       "      <td>0.652540</td>\n",
       "      <td>0.299576</td>\n",
       "      <td>0.326490</td>\n",
       "      <td>0.609562</td>\n",
       "      <td>1.000000</td>\n",
       "      <td>0.749610</td>\n",
       "      <td>0.263693</td>\n",
       "      <td>0.563237</td>\n",
       "    </tr>\n",
       "    <tr>\n",
       "      <td>607</td>\n",
       "      <td>0.384718</td>\n",
       "      <td>0.105925</td>\n",
       "      <td>0.064427</td>\n",
       "      <td>0.274875</td>\n",
       "      <td>0.166397</td>\n",
       "      <td>0.289918</td>\n",
       "      <td>0.366762</td>\n",
       "      <td>0.200786</td>\n",
       "      <td>0.148810</td>\n",
       "      <td>0.187049</td>\n",
       "      <td>...</td>\n",
       "      <td>0.254529</td>\n",
       "      <td>0.266920</td>\n",
       "      <td>0.496336</td>\n",
       "      <td>0.209009</td>\n",
       "      <td>0.288921</td>\n",
       "      <td>0.562132</td>\n",
       "      <td>0.359563</td>\n",
       "      <td>1.000000</td>\n",
       "      <td>0.153062</td>\n",
       "      <td>0.653249</td>\n",
       "    </tr>\n",
       "    <tr>\n",
       "      <td>608</td>\n",
       "      <td>0.508142</td>\n",
       "      <td>0.199254</td>\n",
       "      <td>NaN</td>\n",
       "      <td>0.276710</td>\n",
       "      <td>0.545696</td>\n",
       "      <td>0.755943</td>\n",
       "      <td>0.380257</td>\n",
       "      <td>0.684625</td>\n",
       "      <td>NaN</td>\n",
       "      <td>0.246327</td>\n",
       "      <td>...</td>\n",
       "      <td>0.248946</td>\n",
       "      <td>0.772195</td>\n",
       "      <td>0.593612</td>\n",
       "      <td>0.582319</td>\n",
       "      <td>0.475382</td>\n",
       "      <td>0.626752</td>\n",
       "      <td>0.553965</td>\n",
       "      <td>0.774942</td>\n",
       "      <td>1.000000</td>\n",
       "      <td>0.521149</td>\n",
       "    </tr>\n",
       "    <tr>\n",
       "      <td>609</td>\n",
       "      <td>0.261559</td>\n",
       "      <td>0.133516</td>\n",
       "      <td>0.066853</td>\n",
       "      <td>0.213787</td>\n",
       "      <td>0.110754</td>\n",
       "      <td>0.159786</td>\n",
       "      <td>0.254063</td>\n",
       "      <td>0.124443</td>\n",
       "      <td>0.112452</td>\n",
       "      <td>0.196689</td>\n",
       "      <td>...</td>\n",
       "      <td>0.265600</td>\n",
       "      <td>0.163847</td>\n",
       "      <td>0.378370</td>\n",
       "      <td>0.125497</td>\n",
       "      <td>0.217477</td>\n",
       "      <td>0.445607</td>\n",
       "      <td>0.236920</td>\n",
       "      <td>0.472247</td>\n",
       "      <td>0.098363</td>\n",
       "      <td>1.000000</td>\n",
       "    </tr>\n",
       "  </tbody>\n",
       "</table>\n",
       "<p>610 rows × 610 columns</p>\n",
       "</div>"
      ],
      "text/plain": [
       "          0         1         2         3         4         5         6    \\\n",
       "0    1.000000  0.104587  0.150911  0.417348  0.221978  0.348139  0.322308   \n",
       "1    0.260862  1.000000       NaN  0.207514  0.138343  0.228254  0.244951   \n",
       "2    0.313381       NaN  1.000000  0.025078  0.025078  0.043009       NaN   \n",
       "3    0.434490  0.017955  0.089774  1.000000  0.221254  0.293492  0.294185   \n",
       "4    0.564502  0.120096  0.200160  0.524010  1.000000  0.826520  0.434423   \n",
       "..        ...       ...       ...       ...       ...       ...       ...   \n",
       "605  0.270351  0.070142  0.041614  0.301872  0.139740  0.217118  0.252631   \n",
       "606  0.539902  0.093593  0.075620  0.342868  0.275583  0.431277  0.366632   \n",
       "607  0.384718  0.105925  0.064427  0.274875  0.166397  0.289918  0.366762   \n",
       "608  0.508142  0.199254       NaN  0.276710  0.545696  0.755943  0.380257   \n",
       "609  0.261559  0.133516  0.066853  0.213787  0.110754  0.159786  0.254063   \n",
       "\n",
       "          7         8         9    ...       600       601       602  \\\n",
       "0    0.238162  0.147279  0.125363  ...  0.235317  0.315847  0.647387   \n",
       "1    0.138343       NaN  0.351441  ...  0.593318  0.138343  0.272074   \n",
       "2    0.025078       NaN       NaN  ...  0.035249  0.034407  0.252461   \n",
       "3    0.142927  0.053864  0.161739  ...  0.214792  0.282411  0.739182   \n",
       "4    0.598498       NaN  0.233161  ...  0.318934  0.744576  0.700404   \n",
       "..        ...       ...       ...  ...       ...       ...       ...   \n",
       "605  0.138632  0.116142  0.179305  ...  0.238555  0.189215  0.519080   \n",
       "606  0.300168  0.056156  0.126956  ...  0.277958  0.374220  0.652540   \n",
       "607  0.200786  0.148810  0.187049  ...  0.254529  0.266920  0.496336   \n",
       "608  0.684625       NaN  0.246327  ...  0.248946  0.772195  0.593612   \n",
       "609  0.124443  0.112452  0.196689  ...  0.265600  0.163847  0.378370   \n",
       "\n",
       "          603       604       605       606       607       608       609  \n",
       "0    0.193994  0.363997  0.587516  0.478127  0.723793  0.179922  0.542750  \n",
       "1         NaN       NaN  0.402684  0.138343  0.431933  0.138343  0.759861  \n",
       "2         NaN  0.175549  0.147051  0.142588  0.200632       NaN  0.413315  \n",
       "3    0.162861  0.278942  0.619889  0.351036  0.472852  0.100946  0.464020  \n",
       "4    0.585851  0.563945  0.731921  0.529358  0.755924  0.469055  0.526942  \n",
       "..        ...       ...       ...       ...       ...       ...       ...  \n",
       "605  0.137259  0.244855  1.000000  0.239160  0.444146  0.109472  0.440242  \n",
       "606  0.299576  0.326490  0.609562  1.000000  0.749610  0.263693  0.563237  \n",
       "607  0.209009  0.288921  0.562132  0.359563  1.000000  0.153062  0.653249  \n",
       "608  0.582319  0.475382  0.626752  0.553965  0.774942  1.000000  0.521149  \n",
       "609  0.125497  0.217477  0.445607  0.236920  0.472247  0.098363  1.000000  \n",
       "\n",
       "[610 rows x 610 columns]"
      ]
     },
     "execution_count": 7,
     "metadata": {},
     "output_type": "execute_result"
    }
   ],
   "source": [
    "df1"
   ]
  },
  {
   "cell_type": "code",
   "execution_count": 8,
   "metadata": {
    "ExecuteTime": {
     "end_time": "2019-12-11T04:15:13.108309Z",
     "start_time": "2019-12-11T04:15:13.092889Z"
    }
   },
   "outputs": [],
   "source": [
    "df1.fillna(0,inplace=True)"
   ]
  },
  {
   "cell_type": "code",
   "execution_count": 9,
   "metadata": {
    "ExecuteTime": {
     "end_time": "2019-12-11T04:15:15.127351Z",
     "start_time": "2019-12-11T04:15:14.554772Z"
    }
   },
   "outputs": [],
   "source": [
    "df1.to_csv('cos_similarity_improved.csv', index=False, header=False)"
   ]
  },
  {
   "cell_type": "code",
   "execution_count": 10,
   "metadata": {
    "ExecuteTime": {
     "end_time": "2019-12-11T04:15:18.426928Z",
     "start_time": "2019-12-11T04:15:18.422676Z"
    }
   },
   "outputs": [],
   "source": [
    "# df2.to_csv('angle_similarity_improved.csv', index=False, header=False)"
   ]
  },
  {
   "cell_type": "code",
   "execution_count": 11,
   "metadata": {
    "ExecuteTime": {
     "end_time": "2019-12-11T04:15:20.179739Z",
     "start_time": "2019-12-11T04:15:20.055898Z"
    }
   },
   "outputs": [],
   "source": [
    "similarity_df=pd.read_csv('cos_similarity_improved.csv',header=None)"
   ]
  },
  {
   "cell_type": "code",
   "execution_count": 12,
   "metadata": {
    "ExecuteTime": {
     "end_time": "2019-12-11T04:15:22.740487Z",
     "start_time": "2019-12-11T04:15:22.734940Z"
    }
   },
   "outputs": [],
   "source": [
    "similarity_df.fillna(0.0,inplace=True)"
   ]
  },
  {
   "cell_type": "code",
   "execution_count": 13,
   "metadata": {
    "ExecuteTime": {
     "end_time": "2019-12-11T04:15:31.712130Z",
     "start_time": "2019-12-11T04:15:24.782443Z"
    }
   },
   "outputs": [
    {
     "name": "stderr",
     "output_type": "stream",
     "text": [
      "100%|██████████| 610/610 [00:06<00:00, 88.17it/s]\n"
     ]
    }
   ],
   "source": [
    "user_similarity_dict={}\n",
    "for i in tqdm(range(similarity_df.shape[0])):\n",
    "    sorted_similarity=heapq.nlargest(10,similarity_df.iloc[i])[1:]\n",
    "    dict1={}\n",
    "    for j in sorted_similarity:\n",
    "        dict1[similarity_df.iloc[i][similarity_df.iloc[i]==j].index.values[0]+1]=j\n",
    "    user_similarity_dict[i+1]=dict1"
   ]
  },
  {
   "cell_type": "code",
   "execution_count": 38,
   "metadata": {
    "ExecuteTime": {
     "end_time": "2019-12-11T04:23:52.180422Z",
     "start_time": "2019-12-11T04:23:47.480928Z"
    }
   },
   "outputs": [
    {
     "name": "stderr",
     "output_type": "stream",
     "text": [
      "100%|██████████| 610/610 [00:04<00:00, 130.79it/s]\n"
     ]
    }
   ],
   "source": [
    "abs_error_sum=0\n",
    "root_square_sum=0\n",
    "count=0\n",
    "\n",
    "for i in tqdm(user_movie_rating.index):\n",
    "    non_null_movies=list(user_movie_rating.loc[i][user_movie_rating.loc[i].isna()==False].index)\n",
    "    k0=user_movie_rating.loc[list(user_similarity_dict[i].keys())[0]]\n",
    "    k0=k0[k0.index.isin(non_null_movies)]\n",
    "    k0.fillna(0,inplace=True)\n",
    "    k1=user_movie_rating.loc[list(user_similarity_dict[i].keys())[1]]\n",
    "    k1=k1[k1.index.isin(non_null_movies)]\n",
    "    k1.fillna(0,inplace=True)\n",
    "    k2=user_movie_rating.loc[list(user_similarity_dict[i].keys())[2]]\n",
    "    k2=k2[k2.index.isin(non_null_movies)]\n",
    "    k2.fillna(0,inplace=True)\n",
    "    \n",
    "    k3=user_movie_rating.loc[list(user_similarity_dict[i].keys())[3]]\n",
    "    k3=k3[k3.index.isin(non_null_movies)]\n",
    "    k3.fillna(0,inplace=True)\n",
    "    \n",
    "    k4=user_movie_rating.loc[list(user_similarity_dict[i].keys())[4]]\n",
    "    k4=k4[k4.index.isin(non_null_movies)]\n",
    "    k4.fillna(0,inplace=True)\n",
    "    \n",
    "    a=list(user_similarity_dict[i].values())[0]\n",
    "    b=list(user_similarity_dict[i].values())[1]\n",
    "    c=list(user_similarity_dict[i].values())[2]\n",
    "    d=list(user_similarity_dict[i].values())[3]\n",
    "    e=list(user_similarity_dict[i].values())[4]\n",
    "    predicted_data=(k0+k1+k2+k3+k4)/5\n",
    "    predicted_data=np.ceil(predicted_data*2)/2\n",
    "    predicted_data=predicted_data.replace(6.0,5.0)\n",
    "    predicted_data=predicted_data.replace(5.5,5.0)\n",
    "    actual_data=user_movie_rating.loc[i][user_movie_rating.loc[i].isna()==False]\n",
    "    abs_error_sum=abs_error_sum+sum(np.abs(predicted_data-actual_data))\n",
    "    root_square_sum=root_square_sum+sum(np.square(predicted_data-actual_data))\n",
    "    count=count+len(non_null_movies)"
   ]
  },
  {
   "cell_type": "code",
   "execution_count": 39,
   "metadata": {
    "ExecuteTime": {
     "end_time": "2019-12-11T04:23:54.164219Z",
     "start_time": "2019-12-11T04:23:54.152046Z"
    }
   },
   "outputs": [
    {
     "data": {
      "text/plain": [
       "1.8566153100137903"
      ]
     },
     "execution_count": 39,
     "metadata": {},
     "output_type": "execute_result"
    }
   ],
   "source": [
    "np.sqrt(root_square_sum/count)"
   ]
  },
  {
   "cell_type": "code",
   "execution_count": 40,
   "metadata": {
    "ExecuteTime": {
     "end_time": "2019-12-11T04:23:55.611381Z",
     "start_time": "2019-12-11T04:23:55.607254Z"
    }
   },
   "outputs": [
    {
     "data": {
      "text/plain": [
       "1.4618142330120196"
      ]
     },
     "execution_count": 40,
     "metadata": {},
     "output_type": "execute_result"
    }
   ],
   "source": [
    "abs_error_sum/count"
   ]
  },
  {
   "cell_type": "code",
   "execution_count": null,
   "metadata": {},
   "outputs": [],
   "source": []
  },
  {
   "cell_type": "code",
   "execution_count": null,
   "metadata": {},
   "outputs": [],
   "source": []
  }
 ],
 "metadata": {
  "kernelspec": {
   "display_name": "Python 3",
   "language": "python",
   "name": "python3"
  },
  "language_info": {
   "codemirror_mode": {
    "name": "ipython",
    "version": 3
   },
   "file_extension": ".py",
   "mimetype": "text/x-python",
   "name": "python",
   "nbconvert_exporter": "python",
   "pygments_lexer": "ipython3",
   "version": "3.7.3"
  },
  "toc": {
   "base_numbering": 1,
   "nav_menu": {},
   "number_sections": true,
   "sideBar": true,
   "skip_h1_title": false,
   "title_cell": "Table of Contents",
   "title_sidebar": "Contents",
   "toc_cell": false,
   "toc_position": {},
   "toc_section_display": true,
   "toc_window_display": false
  },
  "varInspector": {
   "cols": {
    "lenName": 16,
    "lenType": 16,
    "lenVar": 40
   },
   "kernels_config": {
    "python": {
     "delete_cmd_postfix": "",
     "delete_cmd_prefix": "del ",
     "library": "var_list.py",
     "varRefreshCmd": "print(var_dic_list())"
    },
    "r": {
     "delete_cmd_postfix": ") ",
     "delete_cmd_prefix": "rm(",
     "library": "var_list.r",
     "varRefreshCmd": "cat(var_dic_list()) "
    }
   },
   "types_to_exclude": [
    "module",
    "function",
    "builtin_function_or_method",
    "instance",
    "_Feature"
   ],
   "window_display": false
  }
 },
 "nbformat": 4,
 "nbformat_minor": 2
}
