{
 "cells": [
  {
   "cell_type": "code",
   "execution_count": 1,
   "metadata": {
    "ExecuteTime": {
     "end_time": "2019-12-06T12:53:30.397806Z",
     "start_time": "2019-12-06T12:53:27.688066Z"
    }
   },
   "outputs": [],
   "source": [
    "import warnings\n",
    "warnings.filterwarnings(\"ignore\")\n",
    "import numpy as np\n",
    "import pandas as pd\n",
    "import matplotlib.pyplot as plt\n",
    "from tqdm import tqdm\n",
    "import heapq"
   ]
  },
  {
   "cell_type": "code",
   "execution_count": 2,
   "metadata": {
    "ExecuteTime": {
     "end_time": "2019-12-06T12:53:33.504613Z",
     "start_time": "2019-12-06T12:53:31.860586Z"
    }
   },
   "outputs": [],
   "source": [
    "df=pd.read_csv('ratings.csv')"
   ]
  },
  {
   "cell_type": "code",
   "execution_count": 36,
   "metadata": {
    "ExecuteTime": {
     "end_time": "2019-12-06T13:06:01.423905Z",
     "start_time": "2019-12-06T13:06:01.262232Z"
    }
   },
   "outputs": [],
   "source": [
    "user_movie_rating = df.pivot_table(index='userId', columns='movieId', values='rating')"
   ]
  },
  {
   "cell_type": "code",
   "execution_count": 55,
   "metadata": {
    "ExecuteTime": {
     "end_time": "2019-12-06T13:32:05.073488Z",
     "start_time": "2019-12-06T13:32:05.055201Z"
    }
   },
   "outputs": [],
   "source": [
    "dist=[]\n",
    "klen=[]"
   ]
  },
  {
   "cell_type": "code",
   "execution_count": 56,
   "metadata": {
    "ExecuteTime": {
     "end_time": "2019-12-06T13:32:07.482446Z",
     "start_time": "2019-12-06T13:32:06.639755Z"
    }
   },
   "outputs": [
    {
     "name": "stderr",
     "output_type": "stream",
     "text": [
      "100%|██████████| 11/11 [00:00<00:00, 17.72it/s]\n"
     ]
    }
   ],
   "source": [
    "for j in tqdm(range(1,len(user_movie_rating.index)+1)):\n",
    "    dist_temp=[]\n",
    "    klen_temp=[]\n",
    "    for i in range(1,len(user_movie_rating.index)+1):\n",
    "        user1_rating=user_movie_rating.iloc[j-1][user_movie_rating.iloc[j-1].isna()==False]\n",
    "        user1_movieId=list(user_movie_rating.iloc[j-1][user_movie_rating.iloc[j-1].isna()==False].index)\n",
    "        user_i_rating=user_movie_rating.iloc[i-1][user_movie_rating.iloc[i-1].isna()==False]\n",
    "        user_i_1_rating=user_i_rating[user_i_rating.index.isin(user1_movieId)]\n",
    "        user_i_1_movieId=list(user_i_1_rating.index)\n",
    "        user1_i_rating=user1_rating[user1_rating.index.isin(user_i_1_movieId)]\n",
    "        a=sum(user1_i_rating*user_i_1_rating)\n",
    "        b=np.sqrt(sum(np.square(user_i_1_rating)))\n",
    "        c=np.sqrt(sum(np.square(user1_rating)))\n",
    "        k=a/(b*c)\n",
    "        klen_temp.append(k)\n",
    "        dist_temp.append(np.cos(k))\n",
    "    klen.append(klen_temp)\n",
    "    dist.append(dist_temp)"
   ]
  },
  {
   "cell_type": "code",
   "execution_count": 57,
   "metadata": {
    "ExecuteTime": {
     "end_time": "2019-12-06T13:32:11.909960Z",
     "start_time": "2019-12-06T13:32:11.899510Z"
    }
   },
   "outputs": [],
   "source": [
    "df1=pd.DataFrame(klen)"
   ]
  },
  {
   "cell_type": "code",
   "execution_count": 58,
   "metadata": {
    "ExecuteTime": {
     "end_time": "2019-12-06T13:32:14.747700Z",
     "start_time": "2019-12-06T13:32:14.729541Z"
    }
   },
   "outputs": [
    {
     "data": {
      "text/html": [
       "<div>\n",
       "<style scoped>\n",
       "    .dataframe tbody tr th:only-of-type {\n",
       "        vertical-align: middle;\n",
       "    }\n",
       "\n",
       "    .dataframe tbody tr th {\n",
       "        vertical-align: top;\n",
       "    }\n",
       "\n",
       "    .dataframe thead th {\n",
       "        text-align: right;\n",
       "    }\n",
       "</style>\n",
       "<table border=\"1\" class=\"dataframe\">\n",
       "  <thead>\n",
       "    <tr style=\"text-align: right;\">\n",
       "      <th></th>\n",
       "      <th>0</th>\n",
       "      <th>1</th>\n",
       "      <th>2</th>\n",
       "      <th>3</th>\n",
       "      <th>4</th>\n",
       "      <th>5</th>\n",
       "      <th>6</th>\n",
       "      <th>7</th>\n",
       "      <th>8</th>\n",
       "      <th>9</th>\n",
       "      <th>10</th>\n",
       "    </tr>\n",
       "  </thead>\n",
       "  <tbody>\n",
       "    <tr>\n",
       "      <td>0</td>\n",
       "      <td>1.000000</td>\n",
       "      <td>0.837808</td>\n",
       "      <td>0.803917</td>\n",
       "      <td>0.535504</td>\n",
       "      <td>0.622752</td>\n",
       "      <td>0.547105</td>\n",
       "      <td>0.490290</td>\n",
       "      <td>NaN</td>\n",
       "      <td>0.392232</td>\n",
       "      <td>NaN</td>\n",
       "      <td>0.535504</td>\n",
       "    </tr>\n",
       "    <tr>\n",
       "      <td>1</td>\n",
       "      <td>0.792963</td>\n",
       "      <td>1.000000</td>\n",
       "      <td>0.867363</td>\n",
       "      <td>0.250282</td>\n",
       "      <td>0.457034</td>\n",
       "      <td>0.294437</td>\n",
       "      <td>0.378633</td>\n",
       "      <td>0.249757</td>\n",
       "      <td>0.316145</td>\n",
       "      <td>0.249757</td>\n",
       "      <td>0.313091</td>\n",
       "    </tr>\n",
       "    <tr>\n",
       "      <td>2</td>\n",
       "      <td>0.866111</td>\n",
       "      <td>0.898717</td>\n",
       "      <td>1.000000</td>\n",
       "      <td>0.400320</td>\n",
       "      <td>0.660578</td>\n",
       "      <td>0.306186</td>\n",
       "      <td>0.319444</td>\n",
       "      <td>0.216506</td>\n",
       "      <td>0.283473</td>\n",
       "      <td>0.216506</td>\n",
       "      <td>0.471405</td>\n",
       "    </tr>\n",
       "    <tr>\n",
       "      <td>3</td>\n",
       "      <td>0.517932</td>\n",
       "      <td>0.369368</td>\n",
       "      <td>0.305566</td>\n",
       "      <td>1.000000</td>\n",
       "      <td>0.930484</td>\n",
       "      <td>0.996024</td>\n",
       "      <td>NaN</td>\n",
       "      <td>NaN</td>\n",
       "      <td>0.089087</td>\n",
       "      <td>NaN</td>\n",
       "      <td>1.000000</td>\n",
       "    </tr>\n",
       "    <tr>\n",
       "      <td>4</td>\n",
       "      <td>0.700481</td>\n",
       "      <td>0.466082</td>\n",
       "      <td>0.558064</td>\n",
       "      <td>0.913347</td>\n",
       "      <td>1.000000</td>\n",
       "      <td>0.878785</td>\n",
       "      <td>0.170872</td>\n",
       "      <td>0.170872</td>\n",
       "      <td>0.269376</td>\n",
       "      <td>0.170872</td>\n",
       "      <td>0.917325</td>\n",
       "    </tr>\n",
       "    <tr>\n",
       "      <td>5</td>\n",
       "      <td>0.585595</td>\n",
       "      <td>0.441899</td>\n",
       "      <td>0.440225</td>\n",
       "      <td>0.984374</td>\n",
       "      <td>0.978839</td>\n",
       "      <td>1.000000</td>\n",
       "      <td>NaN</td>\n",
       "      <td>NaN</td>\n",
       "      <td>NaN</td>\n",
       "      <td>NaN</td>\n",
       "      <td>0.984374</td>\n",
       "    </tr>\n",
       "    <tr>\n",
       "      <td>6</td>\n",
       "      <td>0.189832</td>\n",
       "      <td>0.502592</td>\n",
       "      <td>0.476383</td>\n",
       "      <td>NaN</td>\n",
       "      <td>0.474579</td>\n",
       "      <td>NaN</td>\n",
       "      <td>1.000000</td>\n",
       "      <td>0.963465</td>\n",
       "      <td>0.969398</td>\n",
       "      <td>0.963465</td>\n",
       "      <td>NaN</td>\n",
       "    </tr>\n",
       "    <tr>\n",
       "      <td>7</td>\n",
       "      <td>NaN</td>\n",
       "      <td>0.519705</td>\n",
       "      <td>0.518805</td>\n",
       "      <td>NaN</td>\n",
       "      <td>0.386695</td>\n",
       "      <td>NaN</td>\n",
       "      <td>0.981308</td>\n",
       "      <td>1.000000</td>\n",
       "      <td>0.996327</td>\n",
       "      <td>1.000000</td>\n",
       "      <td>NaN</td>\n",
       "    </tr>\n",
       "    <tr>\n",
       "      <td>8</td>\n",
       "      <td>0.092450</td>\n",
       "      <td>0.435143</td>\n",
       "      <td>0.303822</td>\n",
       "      <td>0.092450</td>\n",
       "      <td>0.223178</td>\n",
       "      <td>NaN</td>\n",
       "      <td>0.983123</td>\n",
       "      <td>0.992061</td>\n",
       "      <td>1.000000</td>\n",
       "      <td>0.992061</td>\n",
       "      <td>0.092450</td>\n",
       "    </tr>\n",
       "    <tr>\n",
       "      <td>9</td>\n",
       "      <td>NaN</td>\n",
       "      <td>0.519705</td>\n",
       "      <td>0.518805</td>\n",
       "      <td>NaN</td>\n",
       "      <td>0.386695</td>\n",
       "      <td>NaN</td>\n",
       "      <td>0.981308</td>\n",
       "      <td>1.000000</td>\n",
       "      <td>0.996327</td>\n",
       "      <td>1.000000</td>\n",
       "      <td>NaN</td>\n",
       "    </tr>\n",
       "    <tr>\n",
       "      <td>10</td>\n",
       "      <td>0.515889</td>\n",
       "      <td>0.314001</td>\n",
       "      <td>0.301179</td>\n",
       "      <td>0.996055</td>\n",
       "      <td>0.931017</td>\n",
       "      <td>0.992095</td>\n",
       "      <td>NaN</td>\n",
       "      <td>NaN</td>\n",
       "      <td>0.088736</td>\n",
       "      <td>NaN</td>\n",
       "      <td>1.000000</td>\n",
       "    </tr>\n",
       "  </tbody>\n",
       "</table>\n",
       "</div>"
      ],
      "text/plain": [
       "           0         1         2         3         4         5         6  \\\n",
       "0   1.000000  0.837808  0.803917  0.535504  0.622752  0.547105  0.490290   \n",
       "1   0.792963  1.000000  0.867363  0.250282  0.457034  0.294437  0.378633   \n",
       "2   0.866111  0.898717  1.000000  0.400320  0.660578  0.306186  0.319444   \n",
       "3   0.517932  0.369368  0.305566  1.000000  0.930484  0.996024       NaN   \n",
       "4   0.700481  0.466082  0.558064  0.913347  1.000000  0.878785  0.170872   \n",
       "5   0.585595  0.441899  0.440225  0.984374  0.978839  1.000000       NaN   \n",
       "6   0.189832  0.502592  0.476383       NaN  0.474579       NaN  1.000000   \n",
       "7        NaN  0.519705  0.518805       NaN  0.386695       NaN  0.981308   \n",
       "8   0.092450  0.435143  0.303822  0.092450  0.223178       NaN  0.983123   \n",
       "9        NaN  0.519705  0.518805       NaN  0.386695       NaN  0.981308   \n",
       "10  0.515889  0.314001  0.301179  0.996055  0.931017  0.992095       NaN   \n",
       "\n",
       "           7         8         9        10  \n",
       "0        NaN  0.392232       NaN  0.535504  \n",
       "1   0.249757  0.316145  0.249757  0.313091  \n",
       "2   0.216506  0.283473  0.216506  0.471405  \n",
       "3        NaN  0.089087       NaN  1.000000  \n",
       "4   0.170872  0.269376  0.170872  0.917325  \n",
       "5        NaN       NaN       NaN  0.984374  \n",
       "6   0.963465  0.969398  0.963465       NaN  \n",
       "7   1.000000  0.996327  1.000000       NaN  \n",
       "8   0.992061  1.000000  0.992061  0.092450  \n",
       "9   1.000000  0.996327  1.000000       NaN  \n",
       "10       NaN  0.088736       NaN  1.000000  "
      ]
     },
     "execution_count": 58,
     "metadata": {},
     "output_type": "execute_result"
    }
   ],
   "source": [
    "df1"
   ]
  },
  {
   "cell_type": "code",
   "execution_count": null,
   "metadata": {},
   "outputs": [],
   "source": []
  },
  {
   "cell_type": "code",
   "execution_count": 59,
   "metadata": {
    "ExecuteTime": {
     "end_time": "2019-12-06T13:32:24.389173Z",
     "start_time": "2019-12-06T13:32:24.373155Z"
    }
   },
   "outputs": [],
   "source": [
    "df2=pd.DataFrame(dist)"
   ]
  },
  {
   "cell_type": "code",
   "execution_count": 60,
   "metadata": {
    "ExecuteTime": {
     "end_time": "2019-12-06T13:32:53.003547Z",
     "start_time": "2019-12-06T13:32:52.962359Z"
    }
   },
   "outputs": [
    {
     "data": {
      "text/html": [
       "<div>\n",
       "<style scoped>\n",
       "    .dataframe tbody tr th:only-of-type {\n",
       "        vertical-align: middle;\n",
       "    }\n",
       "\n",
       "    .dataframe tbody tr th {\n",
       "        vertical-align: top;\n",
       "    }\n",
       "\n",
       "    .dataframe thead th {\n",
       "        text-align: right;\n",
       "    }\n",
       "</style>\n",
       "<table border=\"1\" class=\"dataframe\">\n",
       "  <thead>\n",
       "    <tr style=\"text-align: right;\">\n",
       "      <th></th>\n",
       "      <th>0</th>\n",
       "      <th>1</th>\n",
       "      <th>2</th>\n",
       "      <th>3</th>\n",
       "      <th>4</th>\n",
       "      <th>5</th>\n",
       "      <th>6</th>\n",
       "      <th>7</th>\n",
       "      <th>8</th>\n",
       "      <th>9</th>\n",
       "      <th>10</th>\n",
       "    </tr>\n",
       "  </thead>\n",
       "  <tbody>\n",
       "    <tr>\n",
       "      <td>0</td>\n",
       "      <td>0.540302</td>\n",
       "      <td>0.669093</td>\n",
       "      <td>0.693892</td>\n",
       "      <td>0.860011</td>\n",
       "      <td>0.812276</td>\n",
       "      <td>0.854034</td>\n",
       "      <td>0.882196</td>\n",
       "      <td>NaN</td>\n",
       "      <td>0.924058</td>\n",
       "      <td>NaN</td>\n",
       "      <td>0.860011</td>\n",
       "    </tr>\n",
       "    <tr>\n",
       "      <td>1</td>\n",
       "      <td>0.701737</td>\n",
       "      <td>0.540302</td>\n",
       "      <td>0.646840</td>\n",
       "      <td>0.968843</td>\n",
       "      <td>0.897365</td>\n",
       "      <td>0.956966</td>\n",
       "      <td>0.929171</td>\n",
       "      <td>0.968972</td>\n",
       "      <td>0.950441</td>\n",
       "      <td>0.968972</td>\n",
       "      <td>0.951386</td>\n",
       "    </tr>\n",
       "    <tr>\n",
       "      <td>2</td>\n",
       "      <td>0.647794</td>\n",
       "      <td>0.622614</td>\n",
       "      <td>0.540302</td>\n",
       "      <td>0.920936</td>\n",
       "      <td>0.789638</td>\n",
       "      <td>0.953490</td>\n",
       "      <td>0.949410</td>\n",
       "      <td>0.976654</td>\n",
       "      <td>0.960090</td>\n",
       "      <td>0.976654</td>\n",
       "      <td>0.890931</td>\n",
       "    </tr>\n",
       "    <tr>\n",
       "      <td>3</td>\n",
       "      <td>0.868845</td>\n",
       "      <td>0.932556</td>\n",
       "      <td>0.953677</td>\n",
       "      <td>0.540302</td>\n",
       "      <td>0.597446</td>\n",
       "      <td>0.543644</td>\n",
       "      <td>NaN</td>\n",
       "      <td>NaN</td>\n",
       "      <td>0.996034</td>\n",
       "      <td>NaN</td>\n",
       "      <td>0.540302</td>\n",
       "    </tr>\n",
       "    <tr>\n",
       "      <td>4</td>\n",
       "      <td>0.764532</td>\n",
       "      <td>0.893336</td>\n",
       "      <td>0.848282</td>\n",
       "      <td>0.611100</td>\n",
       "      <td>0.540302</td>\n",
       "      <td>0.638087</td>\n",
       "      <td>0.985437</td>\n",
       "      <td>0.985437</td>\n",
       "      <td>0.963937</td>\n",
       "      <td>0.985437</td>\n",
       "      <td>0.607946</td>\n",
       "    </tr>\n",
       "    <tr>\n",
       "      <td>5</td>\n",
       "      <td>0.833383</td>\n",
       "      <td>0.903941</td>\n",
       "      <td>0.904656</td>\n",
       "      <td>0.553385</td>\n",
       "      <td>0.557987</td>\n",
       "      <td>0.540302</td>\n",
       "      <td>NaN</td>\n",
       "      <td>NaN</td>\n",
       "      <td>NaN</td>\n",
       "      <td>NaN</td>\n",
       "      <td>0.553385</td>\n",
       "    </tr>\n",
       "    <tr>\n",
       "      <td>6</td>\n",
       "      <td>0.982036</td>\n",
       "      <td>0.876337</td>\n",
       "      <td>0.888659</td>\n",
       "      <td>NaN</td>\n",
       "      <td>0.889485</td>\n",
       "      <td>NaN</td>\n",
       "      <td>0.540302</td>\n",
       "      <td>0.570678</td>\n",
       "      <td>0.565796</td>\n",
       "      <td>0.570678</td>\n",
       "      <td>NaN</td>\n",
       "    </tr>\n",
       "    <tr>\n",
       "      <td>7</td>\n",
       "      <td>NaN</td>\n",
       "      <td>0.867966</td>\n",
       "      <td>0.868412</td>\n",
       "      <td>NaN</td>\n",
       "      <td>0.926161</td>\n",
       "      <td>NaN</td>\n",
       "      <td>0.555935</td>\n",
       "      <td>0.540302</td>\n",
       "      <td>0.543389</td>\n",
       "      <td>0.540302</td>\n",
       "      <td>NaN</td>\n",
       "    </tr>\n",
       "    <tr>\n",
       "      <td>8</td>\n",
       "      <td>0.995730</td>\n",
       "      <td>0.906810</td>\n",
       "      <td>0.954200</td>\n",
       "      <td>0.995730</td>\n",
       "      <td>0.975199</td>\n",
       "      <td>NaN</td>\n",
       "      <td>0.554426</td>\n",
       "      <td>0.546966</td>\n",
       "      <td>0.540302</td>\n",
       "      <td>0.546966</td>\n",
       "      <td>0.995730</td>\n",
       "    </tr>\n",
       "    <tr>\n",
       "      <td>9</td>\n",
       "      <td>NaN</td>\n",
       "      <td>0.867966</td>\n",
       "      <td>0.868412</td>\n",
       "      <td>NaN</td>\n",
       "      <td>0.926161</td>\n",
       "      <td>NaN</td>\n",
       "      <td>0.555935</td>\n",
       "      <td>0.540302</td>\n",
       "      <td>0.543389</td>\n",
       "      <td>0.540302</td>\n",
       "      <td>NaN</td>\n",
       "    </tr>\n",
       "    <tr>\n",
       "      <td>10</td>\n",
       "      <td>0.869854</td>\n",
       "      <td>0.951106</td>\n",
       "      <td>0.954987</td>\n",
       "      <td>0.543618</td>\n",
       "      <td>0.597018</td>\n",
       "      <td>0.546937</td>\n",
       "      <td>NaN</td>\n",
       "      <td>NaN</td>\n",
       "      <td>0.996066</td>\n",
       "      <td>NaN</td>\n",
       "      <td>0.540302</td>\n",
       "    </tr>\n",
       "  </tbody>\n",
       "</table>\n",
       "</div>"
      ],
      "text/plain": [
       "           0         1         2         3         4         5         6  \\\n",
       "0   0.540302  0.669093  0.693892  0.860011  0.812276  0.854034  0.882196   \n",
       "1   0.701737  0.540302  0.646840  0.968843  0.897365  0.956966  0.929171   \n",
       "2   0.647794  0.622614  0.540302  0.920936  0.789638  0.953490  0.949410   \n",
       "3   0.868845  0.932556  0.953677  0.540302  0.597446  0.543644       NaN   \n",
       "4   0.764532  0.893336  0.848282  0.611100  0.540302  0.638087  0.985437   \n",
       "5   0.833383  0.903941  0.904656  0.553385  0.557987  0.540302       NaN   \n",
       "6   0.982036  0.876337  0.888659       NaN  0.889485       NaN  0.540302   \n",
       "7        NaN  0.867966  0.868412       NaN  0.926161       NaN  0.555935   \n",
       "8   0.995730  0.906810  0.954200  0.995730  0.975199       NaN  0.554426   \n",
       "9        NaN  0.867966  0.868412       NaN  0.926161       NaN  0.555935   \n",
       "10  0.869854  0.951106  0.954987  0.543618  0.597018  0.546937       NaN   \n",
       "\n",
       "           7         8         9        10  \n",
       "0        NaN  0.924058       NaN  0.860011  \n",
       "1   0.968972  0.950441  0.968972  0.951386  \n",
       "2   0.976654  0.960090  0.976654  0.890931  \n",
       "3        NaN  0.996034       NaN  0.540302  \n",
       "4   0.985437  0.963937  0.985437  0.607946  \n",
       "5        NaN       NaN       NaN  0.553385  \n",
       "6   0.570678  0.565796  0.570678       NaN  \n",
       "7   0.540302  0.543389  0.540302       NaN  \n",
       "8   0.546966  0.540302  0.546966  0.995730  \n",
       "9   0.540302  0.543389  0.540302       NaN  \n",
       "10       NaN  0.996066       NaN  0.540302  "
      ]
     },
     "execution_count": 60,
     "metadata": {},
     "output_type": "execute_result"
    }
   ],
   "source": [
    "df2"
   ]
  },
  {
   "cell_type": "code",
   "execution_count": 72,
   "metadata": {
    "ExecuteTime": {
     "end_time": "2019-12-06T14:07:25.551617Z",
     "start_time": "2019-12-06T14:07:25.539250Z"
    }
   },
   "outputs": [],
   "source": [
    "df1.fillna(0,inplace=True)"
   ]
  },
  {
   "cell_type": "code",
   "execution_count": 73,
   "metadata": {
    "ExecuteTime": {
     "end_time": "2019-12-06T14:07:28.127935Z",
     "start_time": "2019-12-06T14:07:28.120160Z"
    }
   },
   "outputs": [],
   "source": [
    "df1.to_csv('cos_similarity_improved.csv', index=False, header=False)"
   ]
  },
  {
   "cell_type": "code",
   "execution_count": 11,
   "metadata": {
    "ExecuteTime": {
     "end_time": "2019-10-30T13:51:47.340296Z",
     "start_time": "2019-10-30T13:51:47.337476Z"
    }
   },
   "outputs": [],
   "source": [
    "# df2.to_csv('angle_similarity_improved.csv', index=False, header=False)"
   ]
  },
  {
   "cell_type": "code",
   "execution_count": 62,
   "metadata": {
    "ExecuteTime": {
     "end_time": "2019-12-06T13:33:04.093629Z",
     "start_time": "2019-12-06T13:33:04.079662Z"
    }
   },
   "outputs": [],
   "source": [
    "similarity_df=pd.read_csv('cos_similarity_improved.csv',header=None)"
   ]
  },
  {
   "cell_type": "code",
   "execution_count": 63,
   "metadata": {
    "ExecuteTime": {
     "end_time": "2019-12-06T13:33:05.330106Z",
     "start_time": "2019-12-06T13:33:05.318108Z"
    }
   },
   "outputs": [],
   "source": [
    "similarity_df.fillna(0.0,inplace=True)"
   ]
  },
  {
   "cell_type": "code",
   "execution_count": 64,
   "metadata": {
    "ExecuteTime": {
     "end_time": "2019-12-06T13:33:05.929056Z",
     "start_time": "2019-12-06T13:33:05.824926Z"
    }
   },
   "outputs": [
    {
     "name": "stderr",
     "output_type": "stream",
     "text": [
      "100%|██████████| 11/11 [00:00<00:00, 130.76it/s]\n"
     ]
    }
   ],
   "source": [
    "user_similarity_dict={}\n",
    "for i in tqdm(range(similarity_df.shape[0])):\n",
    "    sorted_similarity=heapq.nlargest(10,similarity_df.iloc[i])[1:]\n",
    "    dict1={}\n",
    "    for j in sorted_similarity:\n",
    "        dict1[similarity_df.iloc[i][similarity_df.iloc[i]==j].index.values[0]+1]=j\n",
    "    user_similarity_dict[i+1]=dict1"
   ]
  },
  {
   "cell_type": "code",
   "execution_count": 65,
   "metadata": {
    "ExecuteTime": {
     "end_time": "2019-12-06T13:33:07.233691Z",
     "start_time": "2019-12-06T13:33:07.209326Z"
    }
   },
   "outputs": [
    {
     "name": "stderr",
     "output_type": "stream",
     "text": [
      "  0%|          | 0/11 [00:00<?, ?it/s]\n"
     ]
    },
    {
     "ename": "KeyError",
     "evalue": "0",
     "output_type": "error",
     "traceback": [
      "\u001b[0;31m---------------------------------------------------------------------------\u001b[0m",
      "\u001b[0;31mKeyError\u001b[0m                                  Traceback (most recent call last)",
      "\u001b[0;32m<ipython-input-65-a6998788d32d>\u001b[0m in \u001b[0;36m<module>\u001b[0;34m\u001b[0m\n\u001b[1;32m      5\u001b[0m \u001b[0;32mfor\u001b[0m \u001b[0mi\u001b[0m \u001b[0;32min\u001b[0m \u001b[0mtqdm\u001b[0m\u001b[0;34m(\u001b[0m\u001b[0muser_movie_rating\u001b[0m\u001b[0;34m.\u001b[0m\u001b[0mindex\u001b[0m\u001b[0;34m)\u001b[0m\u001b[0;34m:\u001b[0m\u001b[0;34m\u001b[0m\u001b[0;34m\u001b[0m\u001b[0m\n\u001b[1;32m      6\u001b[0m     \u001b[0mnon_null_movies\u001b[0m\u001b[0;34m=\u001b[0m\u001b[0mlist\u001b[0m\u001b[0;34m(\u001b[0m\u001b[0muser_movie_rating\u001b[0m\u001b[0;34m.\u001b[0m\u001b[0mloc\u001b[0m\u001b[0;34m[\u001b[0m\u001b[0mi\u001b[0m\u001b[0;34m]\u001b[0m\u001b[0;34m[\u001b[0m\u001b[0muser_movie_rating\u001b[0m\u001b[0;34m.\u001b[0m\u001b[0mloc\u001b[0m\u001b[0;34m[\u001b[0m\u001b[0mi\u001b[0m\u001b[0;34m]\u001b[0m\u001b[0;34m.\u001b[0m\u001b[0misna\u001b[0m\u001b[0;34m(\u001b[0m\u001b[0;34m)\u001b[0m\u001b[0;34m==\u001b[0m\u001b[0;32mFalse\u001b[0m\u001b[0;34m]\u001b[0m\u001b[0;34m.\u001b[0m\u001b[0mindex\u001b[0m\u001b[0;34m)\u001b[0m\u001b[0;34m\u001b[0m\u001b[0;34m\u001b[0m\u001b[0m\n\u001b[0;32m----> 7\u001b[0;31m     \u001b[0mk0\u001b[0m\u001b[0;34m=\u001b[0m\u001b[0muser_movie_rating\u001b[0m\u001b[0;34m.\u001b[0m\u001b[0mloc\u001b[0m\u001b[0;34m[\u001b[0m\u001b[0mlist\u001b[0m\u001b[0;34m(\u001b[0m\u001b[0muser_similarity_dict\u001b[0m\u001b[0;34m[\u001b[0m\u001b[0mi\u001b[0m\u001b[0;34m]\u001b[0m\u001b[0;34m.\u001b[0m\u001b[0mkeys\u001b[0m\u001b[0;34m(\u001b[0m\u001b[0;34m)\u001b[0m\u001b[0;34m)\u001b[0m\u001b[0;34m[\u001b[0m\u001b[0;36m0\u001b[0m\u001b[0;34m]\u001b[0m\u001b[0;34m]\u001b[0m\u001b[0;34m\u001b[0m\u001b[0;34m\u001b[0m\u001b[0m\n\u001b[0m\u001b[1;32m      8\u001b[0m     \u001b[0mk0\u001b[0m\u001b[0;34m=\u001b[0m\u001b[0mk0\u001b[0m\u001b[0;34m[\u001b[0m\u001b[0mk0\u001b[0m\u001b[0;34m.\u001b[0m\u001b[0mindex\u001b[0m\u001b[0;34m.\u001b[0m\u001b[0misin\u001b[0m\u001b[0;34m(\u001b[0m\u001b[0mnon_null_movies\u001b[0m\u001b[0;34m)\u001b[0m\u001b[0;34m]\u001b[0m\u001b[0;34m\u001b[0m\u001b[0;34m\u001b[0m\u001b[0m\n\u001b[1;32m      9\u001b[0m     \u001b[0mk0\u001b[0m\u001b[0;34m.\u001b[0m\u001b[0mfillna\u001b[0m\u001b[0;34m(\u001b[0m\u001b[0;36m0\u001b[0m\u001b[0;34m,\u001b[0m\u001b[0minplace\u001b[0m\u001b[0;34m=\u001b[0m\u001b[0;32mTrue\u001b[0m\u001b[0;34m)\u001b[0m\u001b[0;34m\u001b[0m\u001b[0;34m\u001b[0m\u001b[0m\n",
      "\u001b[0;31mKeyError\u001b[0m: 0"
     ]
    }
   ],
   "source": [
    "abs_error_sum=0\n",
    "root_square_sum=0\n",
    "count=0\n",
    "\n",
    "for i in tqdm(user_movie_rating.index):\n",
    "    non_null_movies=list(user_movie_rating.loc[i][user_movie_rating.loc[i].isna()==False].index)\n",
    "    k0=user_movie_rating.loc[list(user_similarity_dict[i].keys())[0]]\n",
    "    k0=k0[k0.index.isin(non_null_movies)]\n",
    "    k0.fillna(0,inplace=True)\n",
    "    k1=user_movie_rating.loc[list(user_similarity_dict[i].keys())[1]]\n",
    "    k1=k1[k1.index.isin(non_null_movies)]\n",
    "    k1.fillna(0,inplace=True)\n",
    "    k2=user_movie_rating.loc[list(user_similarity_dict[i].keys())[2]]\n",
    "    k2=k2[k2.index.isin(non_null_movies)]\n",
    "    k2.fillna(0,inplace=True)\n",
    "    a=list(user_similarity_dict[i].values())[0]\n",
    "    b=list(user_similarity_dict[i].values())[1]\n",
    "    c=list(user_similarity_dict[i].values())[2]\n",
    "    predicted_data=((k0*a+k1*b+k2*c)/(a+b+c))\n",
    "    predicted_data=np.ceil(predicted_data*2)/2\n",
    "    predicted_data=predicted_data.replace(6.0,5.0)\n",
    "    predicted_data=predicted_data.replace(5.5,5.0)\n",
    "    actual_data=user_movie_rating.loc[i][user_movie_rating.loc[i].isna()==False]\n",
    "    abs_error_sum=abs_error_sum+sum(np.abs(predicted_data-actual_data))\n",
    "    root_square_sum=root_square_sum+sum(np.square(predicted_data-actual_data))\n",
    "    count=count+len(non_null_movies)"
   ]
  },
  {
   "cell_type": "code",
   "execution_count": 66,
   "metadata": {
    "ExecuteTime": {
     "end_time": "2019-12-06T13:33:15.684914Z",
     "start_time": "2019-12-06T13:33:15.660003Z"
    }
   },
   "outputs": [
    {
     "ename": "ZeroDivisionError",
     "evalue": "division by zero",
     "output_type": "error",
     "traceback": [
      "\u001b[0;31m---------------------------------------------------------------------------\u001b[0m",
      "\u001b[0;31mZeroDivisionError\u001b[0m                         Traceback (most recent call last)",
      "\u001b[0;32m<ipython-input-66-aa6a211dca3c>\u001b[0m in \u001b[0;36m<module>\u001b[0;34m\u001b[0m\n\u001b[0;32m----> 1\u001b[0;31m \u001b[0mnp\u001b[0m\u001b[0;34m.\u001b[0m\u001b[0msqrt\u001b[0m\u001b[0;34m(\u001b[0m\u001b[0mroot_square_sum\u001b[0m\u001b[0;34m/\u001b[0m\u001b[0mcount\u001b[0m\u001b[0;34m)\u001b[0m\u001b[0;34m\u001b[0m\u001b[0;34m\u001b[0m\u001b[0m\n\u001b[0m",
      "\u001b[0;31mZeroDivisionError\u001b[0m: division by zero"
     ]
    }
   ],
   "source": [
    "np.sqrt(root_square_sum/count)"
   ]
  },
  {
   "cell_type": "code",
   "execution_count": 67,
   "metadata": {
    "ExecuteTime": {
     "end_time": "2019-12-06T13:33:16.261437Z",
     "start_time": "2019-12-06T13:33:16.244971Z"
    }
   },
   "outputs": [
    {
     "ename": "ZeroDivisionError",
     "evalue": "division by zero",
     "output_type": "error",
     "traceback": [
      "\u001b[0;31m---------------------------------------------------------------------------\u001b[0m",
      "\u001b[0;31mZeroDivisionError\u001b[0m                         Traceback (most recent call last)",
      "\u001b[0;32m<ipython-input-67-90ddaee9efd2>\u001b[0m in \u001b[0;36m<module>\u001b[0;34m\u001b[0m\n\u001b[0;32m----> 1\u001b[0;31m \u001b[0mabs_error_sum\u001b[0m\u001b[0;34m/\u001b[0m\u001b[0mcount\u001b[0m\u001b[0;34m\u001b[0m\u001b[0;34m\u001b[0m\u001b[0m\n\u001b[0m",
      "\u001b[0;31mZeroDivisionError\u001b[0m: division by zero"
     ]
    }
   ],
   "source": [
    "abs_error_sum/count"
   ]
  },
  {
   "cell_type": "code",
   "execution_count": null,
   "metadata": {},
   "outputs": [],
   "source": []
  }
 ],
 "metadata": {
  "kernelspec": {
   "display_name": "Python 3",
   "language": "python",
   "name": "python3"
  },
  "language_info": {
   "codemirror_mode": {
    "name": "ipython",
    "version": 3
   },
   "file_extension": ".py",
   "mimetype": "text/x-python",
   "name": "python",
   "nbconvert_exporter": "python",
   "pygments_lexer": "ipython3",
   "version": "3.7.3"
  },
  "toc": {
   "base_numbering": 1,
   "nav_menu": {},
   "number_sections": true,
   "sideBar": true,
   "skip_h1_title": false,
   "title_cell": "Table of Contents",
   "title_sidebar": "Contents",
   "toc_cell": false,
   "toc_position": {},
   "toc_section_display": true,
   "toc_window_display": false
  },
  "varInspector": {
   "cols": {
    "lenName": 16,
    "lenType": 16,
    "lenVar": 40
   },
   "kernels_config": {
    "python": {
     "delete_cmd_postfix": "",
     "delete_cmd_prefix": "del ",
     "library": "var_list.py",
     "varRefreshCmd": "print(var_dic_list())"
    },
    "r": {
     "delete_cmd_postfix": ") ",
     "delete_cmd_prefix": "rm(",
     "library": "var_list.r",
     "varRefreshCmd": "cat(var_dic_list()) "
    }
   },
   "types_to_exclude": [
    "module",
    "function",
    "builtin_function_or_method",
    "instance",
    "_Feature"
   ],
   "window_display": false
  }
 },
 "nbformat": 4,
 "nbformat_minor": 2
}
