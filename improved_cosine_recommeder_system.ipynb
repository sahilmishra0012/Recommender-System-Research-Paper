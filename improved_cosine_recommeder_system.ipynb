{
 "cells": [
  {
   "cell_type": "code",
   "execution_count": 1,
   "metadata": {
    "ExecuteTime": {
     "end_time": "2019-10-30T13:51:44.252464Z",
     "start_time": "2019-10-30T13:51:43.898023Z"
    }
   },
   "outputs": [],
   "source": [
    "import warnings\n",
    "warnings.filterwarnings(\"ignore\")\n",
    "import numpy as np\n",
    "import pandas as pd\n",
    "import matplotlib.pyplot as plt\n",
    "from tqdm import tqdm\n",
    "import heapq"
   ]
  },
  {
   "cell_type": "code",
   "execution_count": 2,
   "metadata": {
    "ExecuteTime": {
     "end_time": "2019-10-30T13:51:44.292156Z",
     "start_time": "2019-10-30T13:51:44.260726Z"
    }
   },
   "outputs": [],
   "source": [
    "df=pd.read_csv('ratings.csv')"
   ]
  },
  {
   "cell_type": "code",
   "execution_count": 3,
   "metadata": {
    "ExecuteTime": {
     "end_time": "2019-10-30T13:51:44.501697Z",
     "start_time": "2019-10-30T13:51:44.303123Z"
    }
   },
   "outputs": [],
   "source": [
    "user_movie_rating = df.pivot_table(index='userId', columns='movieId', values='rating')"
   ]
  },
  {
   "cell_type": "code",
   "execution_count": 4,
   "metadata": {
    "ExecuteTime": {
     "end_time": "2019-10-30T13:51:45.097567Z",
     "start_time": "2019-10-30T13:51:45.095191Z"
    }
   },
   "outputs": [],
   "source": [
    "# dist=[]\n",
    "# klen=[]"
   ]
  },
  {
   "cell_type": "code",
   "execution_count": 5,
   "metadata": {
    "ExecuteTime": {
     "end_time": "2019-10-30T13:51:45.869449Z",
     "start_time": "2019-10-30T13:51:45.385438Z"
    }
   },
   "outputs": [],
   "source": [
    "# for j in tqdm(range(1,len(user_movie_rating.index)+1)):\n",
    "#     dist_temp=[]\n",
    "#     klen_temp=[]\n",
    "#     for i in range(1,len(user_movie_rating.index)+1):\n",
    "#         user1_rating=user_movie_rating.iloc[j-1][user_movie_rating.iloc[j-1].isna()==False]\n",
    "#         user1_movieId=list(user_movie_rating.iloc[j-1][user_movie_rating.iloc[j-1].isna()==False].index)\n",
    "#         user_i_rating=user_movie_rating.iloc[i-1][user_movie_rating.iloc[i-1].isna()==False]\n",
    "#         user_i_1_rating=user_i_rating[user_i_rating.index.isin(user1_movieId)]\n",
    "#         user_i_1_movieId=list(user_i_1_rating.index)\n",
    "#         user1_i_rating=user1_rating[user1_rating.index.isin(user_i_1_movieId)]\n",
    "#         a=sum(user1_i_rating*user_i_1_rating)\n",
    "#         b=np.sqrt(sum(np.square(user_i_1_rating)))\n",
    "#         c=np.sqrt(sum(np.square(user1_rating)))\n",
    "#         k=a/(b*c)\n",
    "#         klen_temp.append(k)\n",
    "#         dist_temp.append(np.cos(k))\n",
    "#     klen.append(klen_temp)\n",
    "#     dist.append(dist_temp)"
   ]
  },
  {
   "cell_type": "code",
   "execution_count": 6,
   "metadata": {
    "ExecuteTime": {
     "end_time": "2019-10-30T13:51:46.146231Z",
     "start_time": "2019-10-30T13:51:46.143466Z"
    }
   },
   "outputs": [],
   "source": [
    "# df1=pd.DataFrame(klen)"
   ]
  },
  {
   "cell_type": "code",
   "execution_count": 7,
   "metadata": {
    "ExecuteTime": {
     "end_time": "2019-10-30T13:51:46.375066Z",
     "start_time": "2019-10-30T13:51:46.373010Z"
    }
   },
   "outputs": [],
   "source": [
    "# df1"
   ]
  },
  {
   "cell_type": "code",
   "execution_count": 8,
   "metadata": {
    "ExecuteTime": {
     "end_time": "2019-10-30T13:51:46.603560Z",
     "start_time": "2019-10-30T13:51:46.600937Z"
    }
   },
   "outputs": [],
   "source": [
    "# df2=pd.DataFrame(dist)"
   ]
  },
  {
   "cell_type": "code",
   "execution_count": 9,
   "metadata": {
    "ExecuteTime": {
     "end_time": "2019-10-30T13:51:46.836194Z",
     "start_time": "2019-10-30T13:51:46.833783Z"
    }
   },
   "outputs": [],
   "source": [
    "# df2"
   ]
  },
  {
   "cell_type": "code",
   "execution_count": 10,
   "metadata": {
    "ExecuteTime": {
     "end_time": "2019-10-30T13:51:47.059953Z",
     "start_time": "2019-10-30T13:51:47.057595Z"
    }
   },
   "outputs": [],
   "source": [
    "# df1.to_csv('cos_similarity_improved.csv', index=False, header=False)"
   ]
  },
  {
   "cell_type": "code",
   "execution_count": 11,
   "metadata": {
    "ExecuteTime": {
     "end_time": "2019-10-30T13:51:47.340296Z",
     "start_time": "2019-10-30T13:51:47.337476Z"
    }
   },
   "outputs": [],
   "source": [
    "# df2.to_csv('angle_similarity_improved.csv', index=False, header=False)"
   ]
  },
  {
   "cell_type": "code",
   "execution_count": 12,
   "metadata": {
    "ExecuteTime": {
     "end_time": "2019-10-30T13:51:47.674778Z",
     "start_time": "2019-10-30T13:51:47.577909Z"
    }
   },
   "outputs": [],
   "source": [
    "similarity_df=pd.read_csv('cos_similarity_improved.csv',header=None)"
   ]
  },
  {
   "cell_type": "code",
   "execution_count": 13,
   "metadata": {
    "ExecuteTime": {
     "end_time": "2019-10-30T13:51:47.947806Z",
     "start_time": "2019-10-30T13:51:47.942451Z"
    }
   },
   "outputs": [],
   "source": [
    "similarity_df.fillna(0.0,inplace=True)"
   ]
  },
  {
   "cell_type": "code",
   "execution_count": 14,
   "metadata": {
    "ExecuteTime": {
     "end_time": "2019-10-30T13:51:55.353338Z",
     "start_time": "2019-10-30T13:51:48.226115Z"
    }
   },
   "outputs": [
    {
     "name": "stderr",
     "output_type": "stream",
     "text": [
      "100%|██████████| 610/610 [00:07<00:00, 85.74it/s]\n"
     ]
    }
   ],
   "source": [
    "user_similarity_dict={}\n",
    "for i in tqdm(range(similarity_df.shape[0])):\n",
    "    sorted_similarity=heapq.nlargest(10,similarity_df.iloc[i])[1:]\n",
    "    dict1={}\n",
    "    for j in sorted_similarity:\n",
    "        dict1[similarity_df.iloc[i][similarity_df.iloc[i]==j].index.values[0]+1]=j\n",
    "    user_similarity_dict[i+1]=dict1"
   ]
  },
  {
   "cell_type": "code",
   "execution_count": 21,
   "metadata": {
    "ExecuteTime": {
     "end_time": "2019-10-30T13:53:00.432594Z",
     "start_time": "2019-10-30T13:52:53.370943Z"
    }
   },
   "outputs": [
    {
     "name": "stderr",
     "output_type": "stream",
     "text": [
      "100%|██████████| 610/610 [00:07<00:00, 86.80it/s]\n"
     ]
    }
   ],
   "source": [
    "abs_error_sum=0\n",
    "root_square_sum=0\n",
    "count=0\n",
    "\n",
    "for i in tqdm(user_movie_rating.index):\n",
    "    non_null_movies=list(user_movie_rating.loc[i][user_movie_rating.loc[i].isna()==False].index)\n",
    "    k0=user_movie_rating.loc[list(user_similarity_dict[i].keys())[0]]\n",
    "    k0=k0[k0.index.isin(non_null_movies)]\n",
    "    k0.fillna(0,inplace=True)\n",
    "    k1=user_movie_rating.loc[list(user_similarity_dict[i].keys())[1]]\n",
    "    k1=k1[k1.index.isin(non_null_movies)]\n",
    "    k1.fillna(0,inplace=True)\n",
    "    k2=user_movie_rating.loc[list(user_similarity_dict[i].keys())[2]]\n",
    "    k2=k2[k2.index.isin(non_null_movies)]\n",
    "    k2.fillna(0,inplace=True)\n",
    "    a=list(user_similarity_dict[i].values())[0]\n",
    "    b=list(user_similarity_dict[i].values())[1]\n",
    "    c=list(user_similarity_dict[i].values())[2]\n",
    "    predicted_data=((k0*a+k1*b+k2*c)/(a+b+c))\n",
    "    predicted_data=np.ceil(predicted_data*2)/2\n",
    "    predicted_data=predicted_data.replace(6.0,5.0)\n",
    "    predicted_data=predicted_data.replace(5.5,5.0)\n",
    "    actual_data=user_movie_rating.loc[i][user_movie_rating.loc[i].isna()==False]\n",
    "    abs_error_sum=abs_error_sum+sum(np.abs(predicted_data-actual_data))\n",
    "    root_square_sum=root_square_sum+sum(np.square(predicted_data-actual_data))\n",
    "    count=count+len(non_null_movies)"
   ]
  },
  {
   "cell_type": "code",
   "execution_count": 22,
   "metadata": {
    "ExecuteTime": {
     "end_time": "2019-10-30T13:53:01.065240Z",
     "start_time": "2019-10-30T13:53:01.053049Z"
    }
   },
   "outputs": [
    {
     "data": {
      "text/plain": [
       "1.879841060259362"
      ]
     },
     "execution_count": 22,
     "metadata": {},
     "output_type": "execute_result"
    }
   ],
   "source": [
    "np.sqrt(root_square_sum/count)"
   ]
  },
  {
   "cell_type": "code",
   "execution_count": 23,
   "metadata": {
    "ExecuteTime": {
     "end_time": "2019-10-30T13:53:01.993084Z",
     "start_time": "2019-10-30T13:53:01.977155Z"
    }
   },
   "outputs": [
    {
     "data": {
      "text/plain": [
       "1.4975008925383793"
      ]
     },
     "execution_count": 23,
     "metadata": {},
     "output_type": "execute_result"
    }
   ],
   "source": [
    "abs_error_sum/count"
   ]
  },
  {
   "cell_type": "code",
   "execution_count": null,
   "metadata": {},
   "outputs": [],
   "source": []
  }
 ],
 "metadata": {
  "kernelspec": {
   "display_name": "Python 3",
   "language": "python",
   "name": "python3"
  },
  "language_info": {
   "codemirror_mode": {
    "name": "ipython",
    "version": 3
   },
   "file_extension": ".py",
   "mimetype": "text/x-python",
   "name": "python",
   "nbconvert_exporter": "python",
   "pygments_lexer": "ipython3",
   "version": "3.7.3"
  },
  "toc": {
   "base_numbering": 1,
   "nav_menu": {},
   "number_sections": true,
   "sideBar": true,
   "skip_h1_title": false,
   "title_cell": "Table of Contents",
   "title_sidebar": "Contents",
   "toc_cell": false,
   "toc_position": {},
   "toc_section_display": true,
   "toc_window_display": false
  },
  "varInspector": {
   "cols": {
    "lenName": 16,
    "lenType": 16,
    "lenVar": 40
   },
   "kernels_config": {
    "python": {
     "delete_cmd_postfix": "",
     "delete_cmd_prefix": "del ",
     "library": "var_list.py",
     "varRefreshCmd": "print(var_dic_list())"
    },
    "r": {
     "delete_cmd_postfix": ") ",
     "delete_cmd_prefix": "rm(",
     "library": "var_list.r",
     "varRefreshCmd": "cat(var_dic_list()) "
    }
   },
   "types_to_exclude": [
    "module",
    "function",
    "builtin_function_or_method",
    "instance",
    "_Feature"
   ],
   "window_display": false
  }
 },
 "nbformat": 4,
 "nbformat_minor": 2
}
