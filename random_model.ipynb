{
 "cells": [
  {
   "cell_type": "code",
   "execution_count": 1,
   "metadata": {
    "ExecuteTime": {
     "end_time": "2019-10-30T13:55:04.254946Z",
     "start_time": "2019-10-30T13:55:03.889368Z"
    }
   },
   "outputs": [],
   "source": [
    "import warnings\n",
    "warnings.filterwarnings(\"ignore\")\n",
    "import numpy as np\n",
    "import pandas as pd\n",
    "import matplotlib.pyplot as plt\n",
    "from tqdm import tqdm\n",
    "import heapq\n",
    "import random"
   ]
  },
  {
   "cell_type": "code",
   "execution_count": 2,
   "metadata": {
    "ExecuteTime": {
     "end_time": "2019-10-30T13:55:04.828559Z",
     "start_time": "2019-10-30T13:55:04.262840Z"
    }
   },
   "outputs": [],
   "source": [
    "df=pd.read_csv('ratings.csv')"
   ]
  },
  {
   "cell_type": "code",
   "execution_count": 3,
   "metadata": {
    "ExecuteTime": {
     "end_time": "2019-10-30T13:55:04.998929Z",
     "start_time": "2019-10-30T13:55:04.841510Z"
    }
   },
   "outputs": [],
   "source": [
    "user_movie_rating = df.pivot_table(index='userId', columns='movieId', values='rating')"
   ]
  },
  {
   "cell_type": "code",
   "execution_count": 37,
   "metadata": {
    "ExecuteTime": {
     "end_time": "2019-10-30T14:00:04.611444Z",
     "start_time": "2019-10-30T13:59:32.363591Z"
    }
   },
   "outputs": [
    {
     "name": "stderr",
     "output_type": "stream",
     "text": [
      "100%|██████████| 610/610 [00:32<00:00, 18.95it/s]\n"
     ]
    }
   ],
   "source": [
    "abs_error_sum=0\n",
    "root_square_sum=0\n",
    "count=0\n",
    "predicted_data_count0=0\n",
    "predicted_data_count0_5=0\n",
    "predicted_data_count1=0\n",
    "predicted_data_count1_5=0\n",
    "predicted_data_count2=0\n",
    "predicted_data_count2_5=0\n",
    "predicted_data_count3=0\n",
    "predicted_data_count3_5=0\n",
    "predicted_data_count4=0\n",
    "predicted_data_count4_5=0\n",
    "predicted_data_count5=0\n",
    "common_0=0\n",
    "common_0_5=0\n",
    "common_1=0\n",
    "common_1_5=0\n",
    "common_2=0\n",
    "common_2_5=0\n",
    "common_3=0\n",
    "common_3_5=0\n",
    "common_4=0\n",
    "common_4_5=0\n",
    "common_5=0\n",
    "actual_data_count0=0\n",
    "actual_data_count0_5=0\n",
    "actual_data_count1=0\n",
    "actual_data_count1_5=0\n",
    "actual_data_count2=0\n",
    "actual_data_count2_5=0\n",
    "actual_data_count3=0\n",
    "actual_data_count3_5=0\n",
    "actual_data_count4=0\n",
    "actual_data_count4_5=0\n",
    "actual_data_count5=0\n",
    "for i in tqdm(user_movie_rating.index):\n",
    "    non_null_movies=list(user_movie_rating.loc[i][user_movie_rating.loc[i].isna()==False].index)\n",
    "    predicted_data=user_movie_rating.loc[i][user_movie_rating.loc[i].isna()==False]\n",
    "    for j in list(user_movie_rating.loc[i][user_movie_rating.loc[i].isna()==False].index):\n",
    "        predicted_data.loc[j]=np.ceil(random.uniform(-0.1,5)*2)/2\n",
    "    predicted_data=predicted_data.replace(6.0,5.0)\n",
    "    predicted_data=predicted_data.replace(5.5,5.0)\n",
    "    actual_data=user_movie_rating.loc[i][user_movie_rating.loc[i].isna()==False]\n",
    "    abs_error_sum=abs_error_sum+sum(np.abs(predicted_data-actual_data))\n",
    "    root_square_sum=root_square_sum+sum(np.square(predicted_data-actual_data))\n",
    "    for j in list(actual_data.index):\n",
    "        if predicted_data.loc[j]==actual_data.loc[j]:\n",
    "            if predicted_data.loc[j]==0:\n",
    "                common_0=common_0+1\n",
    "            if predicted_data.loc[j]==0.5:\n",
    "                common_0_5=common_0_5+1\n",
    "            if predicted_data.loc[j]==1:\n",
    "                common_1=common_1+1\n",
    "            if predicted_data.loc[j]==1.5:\n",
    "                common_1_5=common_1_5+1\n",
    "            if predicted_data.loc[j]==2:\n",
    "                common_2=common_2+1\n",
    "            if predicted_data.loc[j]==2.5:\n",
    "                common_2_5=common_2_5+1\n",
    "            if predicted_data.loc[j]==3:\n",
    "                common_3=common_3+1\n",
    "            if predicted_data.loc[j]==3.5:\n",
    "                common_3_5=common_3_5+1\n",
    "            if predicted_data.loc[j]==4:\n",
    "                common_4=common_4+1\n",
    "            if predicted_data.loc[j]==4.5:\n",
    "                common_4_5=common_4_5+1\n",
    "            if predicted_data.loc[j]==5:\n",
    "                common_5=common_5+1\n",
    "    if 0 in list(predicted_data.value_counts().index):\n",
    "        predicted_data_count0=predicted_data_count0+predicted_data.value_counts()[0]\n",
    "    if 0.5 in list(predicted_data.value_counts().index):\n",
    "        predicted_data_count0_5=predicted_data_count0_5+predicted_data.value_counts()[0.5]\n",
    "    if 1 in list(predicted_data.value_counts().index):\n",
    "        predicted_data_count1=predicted_data_count1+predicted_data.value_counts()[1]\n",
    "    if 1.5 in list(predicted_data.value_counts().index):\n",
    "        predicted_data_count1_5=predicted_data_count1_5+predicted_data.value_counts()[1.5]\n",
    "    if 2 in list(predicted_data.value_counts().index):\n",
    "        predicted_data_count2=predicted_data_count2+predicted_data.value_counts()[2]\n",
    "    if 2.5 in list(predicted_data.value_counts().index):\n",
    "        predicted_data_count2_5=predicted_data_count2_5+predicted_data.value_counts()[2.5]\n",
    "    if 3 in list(predicted_data.value_counts().index):\n",
    "        predicted_data_count3=predicted_data_count3+predicted_data.value_counts()[3]\n",
    "    if 3.5 in list(predicted_data.value_counts().index):\n",
    "        predicted_data_count3_5=predicted_data_count3_5+predicted_data.value_counts()[3.5]\n",
    "    if 4 in list(predicted_data.value_counts().index):\n",
    "        predicted_data_count4=predicted_data_count4+predicted_data.value_counts()[4]\n",
    "    if 4.5 in list(predicted_data.value_counts().index):\n",
    "        predicted_data_count4_5=predicted_data_count4_5+predicted_data.value_counts()[4.5]\n",
    "    if 5 in list(predicted_data.value_counts().index):\n",
    "        predicted_data_count5=predicted_data_count5+predicted_data.value_counts()[5]\n",
    "        \n",
    "    if 0 in list(actual_data.value_counts().index):\n",
    "        actual_data_count0=actual_data_count0+actual_data.value_counts()[0]\n",
    "    if 0.5 in list(actual_data.value_counts().index):\n",
    "        actual_data_count0_5=actual_data_count0_5+actual_data.value_counts()[0.5]\n",
    "    if 1 in list(actual_data.value_counts().index):\n",
    "        actual_data_count1=actual_data_count1+actual_data.value_counts()[1]\n",
    "    if 1.5 in list(actual_data.value_counts().index):\n",
    "        actual_data_count1_5=actual_data_count1_5+actual_data.value_counts()[1.5]\n",
    "    if 2 in list(actual_data.value_counts().index):\n",
    "        actual_data_count2=actual_data_count2+actual_data.value_counts()[2]\n",
    "    if 2.5 in list(actual_data.value_counts().index):\n",
    "        actual_data_count2_5=actual_data_count2_5+actual_data.value_counts()[2.5]\n",
    "    if 3 in list(actual_data.value_counts().index):\n",
    "        actual_data_count3=actual_data_count3+actual_data.value_counts()[3]\n",
    "    if 3.5 in list(actual_data.value_counts().index):\n",
    "        actual_data_count3_5=actual_data_count3_5+actual_data.value_counts()[3.5]\n",
    "    if 4 in list(actual_data.value_counts().index):\n",
    "        actual_data_count4=actual_data_count4+actual_data.value_counts()[4]\n",
    "    if 4.5 in list(actual_data.value_counts().index):\n",
    "        actual_data_count4_5=actual_data_count4_5+actual_data.value_counts()[4.5]\n",
    "    if 5 in list(actual_data.value_counts().index):\n",
    "        actual_data_count5=actual_data_count5+actual_data.value_counts()[5]\n",
    "    count=count+len(non_null_movies)"
   ]
  },
  {
   "cell_type": "code",
   "execution_count": 38,
   "metadata": {
    "ExecuteTime": {
     "end_time": "2019-10-30T14:00:05.533554Z",
     "start_time": "2019-10-30T14:00:05.515469Z"
    }
   },
   "outputs": [
    {
     "data": {
      "text/plain": [
       "1.9786278994477475"
      ]
     },
     "execution_count": 38,
     "metadata": {},
     "output_type": "execute_result"
    }
   ],
   "source": [
    "np.sqrt(root_square_sum/count)"
   ]
  },
  {
   "cell_type": "code",
   "execution_count": 39,
   "metadata": {
    "ExecuteTime": {
     "end_time": "2019-10-30T14:00:06.272914Z",
     "start_time": "2019-10-30T14:00:06.251573Z"
    }
   },
   "outputs": [
    {
     "data": {
      "text/plain": [
       "1.6077244238168908"
      ]
     },
     "execution_count": 39,
     "metadata": {},
     "output_type": "execute_result"
    }
   ],
   "source": [
    "abs_error_sum/count"
   ]
  },
  {
   "cell_type": "code",
   "execution_count": 40,
   "metadata": {
    "ExecuteTime": {
     "end_time": "2019-10-30T14:00:09.233416Z",
     "start_time": "2019-10-30T14:00:09.225659Z"
    }
   },
   "outputs": [],
   "source": [
    "class_0_recall=common_0/predicted_data_count0\n",
    "\n",
    "class_0_5_precision=common_0_5/actual_data_count0_5\n",
    "class_0_5_recall=common_0_5/predicted_data_count0_5\n",
    "\n",
    "class_1_precision=common_1/actual_data_count1\n",
    "class_1_recall=common_1/predicted_data_count1\n",
    "\n",
    "class_1_5_precision=common_1_5/actual_data_count1_5\n",
    "class_1_5_recall=common_1_5/predicted_data_count1_5\n",
    "\n",
    "class_2_precision=common_2/actual_data_count2\n",
    "class_2_recall=common_2/predicted_data_count2\n",
    "\n",
    "class_2_5_precision=common_2_5/actual_data_count2_5\n",
    "class_2_5_recall=common_2_5/predicted_data_count2_5\n",
    "\n",
    "class_3_precision=common_3/actual_data_count3\n",
    "class_3_recall=common_3/predicted_data_count3\n",
    "\n",
    "class_3_5_precision=common_3_5/actual_data_count3_5\n",
    "class_3_5_recall=common_3_5/predicted_data_count3_5\n",
    "\n",
    "class_4_precision=common_4/actual_data_count4\n",
    "class_4_recall=common_4/predicted_data_count4\n",
    "\n",
    "class_4_5_precision=common_4_5/actual_data_count4_5\n",
    "class_4_5_recall=common_4_5/predicted_data_count4_5\n",
    "\n",
    "class_5_precision=common_5/actual_data_count5\n",
    "class_5_recall=common_5/predicted_data_count5"
   ]
  },
  {
   "cell_type": "code",
   "execution_count": 41,
   "metadata": {
    "ExecuteTime": {
     "end_time": "2019-10-30T14:00:10.318451Z",
     "start_time": "2019-10-30T14:00:10.307790Z"
    }
   },
   "outputs": [],
   "source": [
    "precision=class_0_5_precision+class_1_precision+class_1_5_precision+class_2_precision+class_2_5_precision+class_3_precision+class_3_5_precision+class_4_precision+class_4_5_precision+class_5_precision"
   ]
  },
  {
   "cell_type": "code",
   "execution_count": 42,
   "metadata": {
    "ExecuteTime": {
     "end_time": "2019-10-30T14:00:10.606641Z",
     "start_time": "2019-10-30T14:00:10.600882Z"
    }
   },
   "outputs": [],
   "source": [
    "precision=precision/11"
   ]
  },
  {
   "cell_type": "code",
   "execution_count": 43,
   "metadata": {
    "ExecuteTime": {
     "end_time": "2019-10-30T14:00:11.626069Z",
     "start_time": "2019-10-30T14:00:11.617629Z"
    }
   },
   "outputs": [],
   "source": [
    "recall=class_0_recall+class_0_5_recall+class_1_recall+class_1_5_recall+class_2_recall+class_2_5_recall+class_3_recall+class_3_5_recall+class_4_recall+class_4_5_recall+class_5_recall"
   ]
  },
  {
   "cell_type": "code",
   "execution_count": 44,
   "metadata": {
    "ExecuteTime": {
     "end_time": "2019-10-30T14:00:11.910041Z",
     "start_time": "2019-10-30T14:00:11.905215Z"
    }
   },
   "outputs": [],
   "source": [
    "recall=recall/11"
   ]
  },
  {
   "cell_type": "code",
   "execution_count": 45,
   "metadata": {
    "ExecuteTime": {
     "end_time": "2019-10-30T14:00:12.316501Z",
     "start_time": "2019-10-30T14:00:12.169428Z"
    }
   },
   "outputs": [],
   "source": [
    "f1_score=(2*precision*recall)/(precision+recall)"
   ]
  },
  {
   "cell_type": "code",
   "execution_count": 46,
   "metadata": {
    "ExecuteTime": {
     "end_time": "2019-10-30T14:00:12.572511Z",
     "start_time": "2019-10-30T14:00:12.569061Z"
    }
   },
   "outputs": [
    {
     "data": {
      "text/plain": [
       "0.08978227402029129"
      ]
     },
     "execution_count": 46,
     "metadata": {},
     "output_type": "execute_result"
    }
   ],
   "source": [
    "f1_score"
   ]
  },
  {
   "cell_type": "code",
   "execution_count": null,
   "metadata": {},
   "outputs": [],
   "source": []
  }
 ],
 "metadata": {
  "kernelspec": {
   "display_name": "Python 3",
   "language": "python",
   "name": "python3"
  },
  "language_info": {
   "codemirror_mode": {
    "name": "ipython",
    "version": 3
   },
   "file_extension": ".py",
   "mimetype": "text/x-python",
   "name": "python",
   "nbconvert_exporter": "python",
   "pygments_lexer": "ipython3",
   "version": "3.7.3"
  },
  "toc": {
   "base_numbering": 1,
   "nav_menu": {},
   "number_sections": true,
   "sideBar": true,
   "skip_h1_title": false,
   "title_cell": "Table of Contents",
   "title_sidebar": "Contents",
   "toc_cell": false,
   "toc_position": {},
   "toc_section_display": true,
   "toc_window_display": false
  },
  "varInspector": {
   "cols": {
    "lenName": 16,
    "lenType": 16,
    "lenVar": 40
   },
   "kernels_config": {
    "python": {
     "delete_cmd_postfix": "",
     "delete_cmd_prefix": "del ",
     "library": "var_list.py",
     "varRefreshCmd": "print(var_dic_list())"
    },
    "r": {
     "delete_cmd_postfix": ") ",
     "delete_cmd_prefix": "rm(",
     "library": "var_list.r",
     "varRefreshCmd": "cat(var_dic_list()) "
    }
   },
   "types_to_exclude": [
    "module",
    "function",
    "builtin_function_or_method",
    "instance",
    "_Feature"
   ],
   "window_display": false
  }
 },
 "nbformat": 4,
 "nbformat_minor": 2
}
